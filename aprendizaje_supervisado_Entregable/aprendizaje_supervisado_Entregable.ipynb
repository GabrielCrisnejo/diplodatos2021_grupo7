{
 "cells": [
  {
   "cell_type": "markdown",
   "metadata": {
    "id": "2Zg_rn4fBjlj"
   },
   "source": [
    "# Diplodatos Kaggle Competition"
   ]
  },
  {
   "cell_type": "markdown",
   "metadata": {
    "id": "ttqRq_aCBjlp"
   },
   "source": [
    "We present this peace of code to create the baseline for the competition, and as an example of how to deal with these kind of problems. The main goals are that you:\n",
    "\n",
    "1. Explore the data and learn from it\n",
    "1. Try different models and see which one fits the best the given data\n",
    "1. Get a higher score than the given one in the current baseline example\n",
    "1. Try to get the highest score in the class :)"
   ]
  },
  {
   "cell_type": "code",
   "execution_count": 1,
   "metadata": {
    "executionInfo": {
     "elapsed": 51,
     "status": "ok",
     "timestamp": 1632317048481,
     "user": {
      "displayName": "Hugo Carignano",
      "photoUrl": "https://lh3.googleusercontent.com/a-/AOh14GghlBIEB1E06zcwUUK6G2hjSk8W8yEYXdTtbaJTLw=s64",
      "userId": "08546365168766205680"
     },
     "user_tz": 180
    },
    "id": "gPp4_wxjBjlq"
   },
   "outputs": [],
   "source": [
    "# Import the required packages\n",
    "import os\n",
    "\n",
    "import numpy as np\n",
    "import pandas as pd\n",
    "import matplotlib.pyplot as plt\n",
    "import time"
   ]
  },
  {
   "cell_type": "markdown",
   "metadata": {
    "id": "Yn-aG189Bjls"
   },
   "source": [
    "## Read Data"
   ]
  },
  {
   "cell_type": "code",
   "execution_count": 2,
   "metadata": {
    "id": "QIGTzZ4DBjlt"
   },
   "outputs": [],
   "source": [
    "train_df = pd.read_csv(\"../data/travel_insurance_prediction_train.csv\")\n",
    "test_df = pd.read_csv(\"../data/travel_insurance_prediction_test.csv\")"
   ]
  },
  {
   "cell_type": "markdown",
   "metadata": {
    "id": "u00g1no_Bjlt"
   },
   "source": [
    "## Explore the Data\n",
    "\n",
    "Is your task to explore the data, do analysis over it and get insights, then use those insights to better pick a model."
   ]
  },
  {
   "cell_type": "code",
   "execution_count": 3,
   "metadata": {
    "id": "byQSONmjBjlu",
    "outputId": "6a0775f1-c42e-4964-fe7a-a4d0aba86fd2"
   },
   "outputs": [
    {
     "data": {
      "text/html": [
       "<div>\n",
       "<style scoped>\n",
       "    .dataframe tbody tr th:only-of-type {\n",
       "        vertical-align: middle;\n",
       "    }\n",
       "\n",
       "    .dataframe tbody tr th {\n",
       "        vertical-align: top;\n",
       "    }\n",
       "\n",
       "    .dataframe thead th {\n",
       "        text-align: right;\n",
       "    }\n",
       "</style>\n",
       "<table border=\"1\" class=\"dataframe\">\n",
       "  <thead>\n",
       "    <tr style=\"text-align: right;\">\n",
       "      <th></th>\n",
       "      <th>Customer</th>\n",
       "      <th>Age</th>\n",
       "      <th>Employment Type</th>\n",
       "      <th>GraduateOrNot</th>\n",
       "      <th>AnnualIncome</th>\n",
       "      <th>FamilyMembers</th>\n",
       "      <th>ChronicDiseases</th>\n",
       "      <th>FrequentFlyer</th>\n",
       "      <th>EverTravelledAbroad</th>\n",
       "      <th>TravelInsurance</th>\n",
       "    </tr>\n",
       "  </thead>\n",
       "  <tbody>\n",
       "    <tr>\n",
       "      <th>0</th>\n",
       "      <td>1</td>\n",
       "      <td>33</td>\n",
       "      <td>Private Sector/Self Employed</td>\n",
       "      <td>Yes</td>\n",
       "      <td>550000</td>\n",
       "      <td>6</td>\n",
       "      <td>0</td>\n",
       "      <td>No</td>\n",
       "      <td>No</td>\n",
       "      <td>1</td>\n",
       "    </tr>\n",
       "    <tr>\n",
       "      <th>1</th>\n",
       "      <td>2</td>\n",
       "      <td>28</td>\n",
       "      <td>Private Sector/Self Employed</td>\n",
       "      <td>Yes</td>\n",
       "      <td>800000</td>\n",
       "      <td>7</td>\n",
       "      <td>0</td>\n",
       "      <td>Yes</td>\n",
       "      <td>No</td>\n",
       "      <td>0</td>\n",
       "    </tr>\n",
       "    <tr>\n",
       "      <th>2</th>\n",
       "      <td>3</td>\n",
       "      <td>31</td>\n",
       "      <td>Private Sector/Self Employed</td>\n",
       "      <td>Yes</td>\n",
       "      <td>1250000</td>\n",
       "      <td>4</td>\n",
       "      <td>0</td>\n",
       "      <td>No</td>\n",
       "      <td>No</td>\n",
       "      <td>0</td>\n",
       "    </tr>\n",
       "    <tr>\n",
       "      <th>3</th>\n",
       "      <td>4</td>\n",
       "      <td>31</td>\n",
       "      <td>Government Sector</td>\n",
       "      <td>No</td>\n",
       "      <td>300000</td>\n",
       "      <td>7</td>\n",
       "      <td>0</td>\n",
       "      <td>No</td>\n",
       "      <td>No</td>\n",
       "      <td>0</td>\n",
       "    </tr>\n",
       "    <tr>\n",
       "      <th>4</th>\n",
       "      <td>5</td>\n",
       "      <td>28</td>\n",
       "      <td>Private Sector/Self Employed</td>\n",
       "      <td>Yes</td>\n",
       "      <td>1250000</td>\n",
       "      <td>3</td>\n",
       "      <td>0</td>\n",
       "      <td>No</td>\n",
       "      <td>No</td>\n",
       "      <td>0</td>\n",
       "    </tr>\n",
       "  </tbody>\n",
       "</table>\n",
       "</div>"
      ],
      "text/plain": [
       "   Customer  Age               Employment Type GraduateOrNot  AnnualIncome  \\\n",
       "0         1   33  Private Sector/Self Employed           Yes        550000   \n",
       "1         2   28  Private Sector/Self Employed           Yes        800000   \n",
       "2         3   31  Private Sector/Self Employed           Yes       1250000   \n",
       "3         4   31             Government Sector            No        300000   \n",
       "4         5   28  Private Sector/Self Employed           Yes       1250000   \n",
       "\n",
       "   FamilyMembers  ChronicDiseases FrequentFlyer EverTravelledAbroad  \\\n",
       "0              6                0            No                  No   \n",
       "1              7                0           Yes                  No   \n",
       "2              4                0            No                  No   \n",
       "3              7                0            No                  No   \n",
       "4              3                0            No                  No   \n",
       "\n",
       "   TravelInsurance  \n",
       "0                1  \n",
       "1                0  \n",
       "2                0  \n",
       "3                0  \n",
       "4                0  "
      ]
     },
     "execution_count": 3,
     "metadata": {},
     "output_type": "execute_result"
    }
   ],
   "source": [
    "train_df.head()"
   ]
  },
  {
   "cell_type": "code",
   "execution_count": 4,
   "metadata": {
    "id": "epW-cXaEBjlw",
    "outputId": "b5ad5b04-c6d9-40f3-cbfd-89761ba6e504"
   },
   "outputs": [
    {
     "data": {
      "text/html": [
       "<div>\n",
       "<style scoped>\n",
       "    .dataframe tbody tr th:only-of-type {\n",
       "        vertical-align: middle;\n",
       "    }\n",
       "\n",
       "    .dataframe tbody tr th {\n",
       "        vertical-align: top;\n",
       "    }\n",
       "\n",
       "    .dataframe thead th {\n",
       "        text-align: right;\n",
       "    }\n",
       "</style>\n",
       "<table border=\"1\" class=\"dataframe\">\n",
       "  <thead>\n",
       "    <tr style=\"text-align: right;\">\n",
       "      <th></th>\n",
       "      <th>Customer</th>\n",
       "      <th>Age</th>\n",
       "      <th>Employment Type</th>\n",
       "      <th>GraduateOrNot</th>\n",
       "      <th>AnnualIncome</th>\n",
       "      <th>FamilyMembers</th>\n",
       "      <th>ChronicDiseases</th>\n",
       "      <th>FrequentFlyer</th>\n",
       "      <th>EverTravelledAbroad</th>\n",
       "    </tr>\n",
       "  </thead>\n",
       "  <tbody>\n",
       "    <tr>\n",
       "      <th>0</th>\n",
       "      <td>1491</td>\n",
       "      <td>29</td>\n",
       "      <td>Private Sector/Self Employed</td>\n",
       "      <td>Yes</td>\n",
       "      <td>1100000</td>\n",
       "      <td>4</td>\n",
       "      <td>0</td>\n",
       "      <td>No</td>\n",
       "      <td>No</td>\n",
       "    </tr>\n",
       "    <tr>\n",
       "      <th>1</th>\n",
       "      <td>1492</td>\n",
       "      <td>28</td>\n",
       "      <td>Private Sector/Self Employed</td>\n",
       "      <td>Yes</td>\n",
       "      <td>750000</td>\n",
       "      <td>5</td>\n",
       "      <td>1</td>\n",
       "      <td>Yes</td>\n",
       "      <td>No</td>\n",
       "    </tr>\n",
       "    <tr>\n",
       "      <th>2</th>\n",
       "      <td>1493</td>\n",
       "      <td>31</td>\n",
       "      <td>Government Sector</td>\n",
       "      <td>Yes</td>\n",
       "      <td>1500000</td>\n",
       "      <td>4</td>\n",
       "      <td>0</td>\n",
       "      <td>Yes</td>\n",
       "      <td>Yes</td>\n",
       "    </tr>\n",
       "    <tr>\n",
       "      <th>3</th>\n",
       "      <td>1494</td>\n",
       "      <td>28</td>\n",
       "      <td>Private Sector/Self Employed</td>\n",
       "      <td>Yes</td>\n",
       "      <td>1400000</td>\n",
       "      <td>3</td>\n",
       "      <td>0</td>\n",
       "      <td>No</td>\n",
       "      <td>Yes</td>\n",
       "    </tr>\n",
       "    <tr>\n",
       "      <th>4</th>\n",
       "      <td>1495</td>\n",
       "      <td>33</td>\n",
       "      <td>Private Sector/Self Employed</td>\n",
       "      <td>Yes</td>\n",
       "      <td>1500000</td>\n",
       "      <td>4</td>\n",
       "      <td>0</td>\n",
       "      <td>Yes</td>\n",
       "      <td>Yes</td>\n",
       "    </tr>\n",
       "  </tbody>\n",
       "</table>\n",
       "</div>"
      ],
      "text/plain": [
       "   Customer  Age               Employment Type GraduateOrNot  AnnualIncome  \\\n",
       "0      1491   29  Private Sector/Self Employed           Yes       1100000   \n",
       "1      1492   28  Private Sector/Self Employed           Yes        750000   \n",
       "2      1493   31             Government Sector           Yes       1500000   \n",
       "3      1494   28  Private Sector/Self Employed           Yes       1400000   \n",
       "4      1495   33  Private Sector/Self Employed           Yes       1500000   \n",
       "\n",
       "   FamilyMembers  ChronicDiseases FrequentFlyer EverTravelledAbroad  \n",
       "0              4                0            No                  No  \n",
       "1              5                1           Yes                  No  \n",
       "2              4                0           Yes                 Yes  \n",
       "3              3                0            No                 Yes  \n",
       "4              4                0           Yes                 Yes  "
      ]
     },
     "execution_count": 4,
     "metadata": {},
     "output_type": "execute_result"
    }
   ],
   "source": [
    "test_df.head()"
   ]
  },
  {
   "cell_type": "markdown",
   "metadata": {
    "id": "XQuKT5h0Bjlx"
   },
   "source": [
    "**TravelInsurance** is the column that we should predict. That column is not present in the test set."
   ]
  },
  {
   "cell_type": "code",
   "execution_count": 5,
   "metadata": {
    "id": "e4BfBmOvBjly",
    "outputId": "cd538974-da9f-4ad3-e725-b1200154661d"
   },
   "outputs": [
    {
     "name": "stdout",
     "output_type": "stream",
     "text": [
      "<class 'pandas.core.frame.DataFrame'>\n",
      "RangeIndex: 1490 entries, 0 to 1489\n",
      "Data columns (total 10 columns):\n",
      " #   Column               Non-Null Count  Dtype \n",
      "---  ------               --------------  ----- \n",
      " 0   Customer             1490 non-null   int64 \n",
      " 1   Age                  1490 non-null   int64 \n",
      " 2   Employment Type      1490 non-null   object\n",
      " 3   GraduateOrNot        1490 non-null   object\n",
      " 4   AnnualIncome         1490 non-null   int64 \n",
      " 5   FamilyMembers        1490 non-null   int64 \n",
      " 6   ChronicDiseases      1490 non-null   int64 \n",
      " 7   FrequentFlyer        1490 non-null   object\n",
      " 8   EverTravelledAbroad  1490 non-null   object\n",
      " 9   TravelInsurance      1490 non-null   int64 \n",
      "dtypes: int64(6), object(4)\n",
      "memory usage: 116.5+ KB\n"
     ]
    }
   ],
   "source": [
    "train_df.info()"
   ]
  },
  {
   "cell_type": "code",
   "execution_count": 6,
   "metadata": {
    "id": "hMHkKEfxBjlz",
    "outputId": "70de5f8f-65d0-4acc-9ad7-309b1f835cfb"
   },
   "outputs": [
    {
     "name": "stdout",
     "output_type": "stream",
     "text": [
      "<class 'pandas.core.frame.DataFrame'>\n",
      "RangeIndex: 497 entries, 0 to 496\n",
      "Data columns (total 9 columns):\n",
      " #   Column               Non-Null Count  Dtype \n",
      "---  ------               --------------  ----- \n",
      " 0   Customer             497 non-null    int64 \n",
      " 1   Age                  497 non-null    int64 \n",
      " 2   Employment Type      497 non-null    object\n",
      " 3   GraduateOrNot        497 non-null    object\n",
      " 4   AnnualIncome         497 non-null    int64 \n",
      " 5   FamilyMembers        497 non-null    int64 \n",
      " 6   ChronicDiseases      497 non-null    int64 \n",
      " 7   FrequentFlyer        497 non-null    object\n",
      " 8   EverTravelledAbroad  497 non-null    object\n",
      "dtypes: int64(5), object(4)\n",
      "memory usage: 35.1+ KB\n"
     ]
    }
   ],
   "source": [
    "test_df.info()"
   ]
  },
  {
   "cell_type": "code",
   "execution_count": 7,
   "metadata": {
    "id": "nlClbL_wBjl0",
    "outputId": "d866793b-9814-4567-d900-8958d55397fc"
   },
   "outputs": [
    {
     "data": {
      "text/html": [
       "<div>\n",
       "<style scoped>\n",
       "    .dataframe tbody tr th:only-of-type {\n",
       "        vertical-align: middle;\n",
       "    }\n",
       "\n",
       "    .dataframe tbody tr th {\n",
       "        vertical-align: top;\n",
       "    }\n",
       "\n",
       "    .dataframe thead th {\n",
       "        text-align: right;\n",
       "    }\n",
       "</style>\n",
       "<table border=\"1\" class=\"dataframe\">\n",
       "  <thead>\n",
       "    <tr style=\"text-align: right;\">\n",
       "      <th></th>\n",
       "      <th>Customer</th>\n",
       "      <th>Age</th>\n",
       "      <th>AnnualIncome</th>\n",
       "      <th>FamilyMembers</th>\n",
       "      <th>ChronicDiseases</th>\n",
       "      <th>TravelInsurance</th>\n",
       "    </tr>\n",
       "  </thead>\n",
       "  <tbody>\n",
       "    <tr>\n",
       "      <th>count</th>\n",
       "      <td>1490.000000</td>\n",
       "      <td>1490.000000</td>\n",
       "      <td>1.490000e+03</td>\n",
       "      <td>1490.000000</td>\n",
       "      <td>1490.000000</td>\n",
       "      <td>1490.000000</td>\n",
       "    </tr>\n",
       "    <tr>\n",
       "      <th>mean</th>\n",
       "      <td>745.500000</td>\n",
       "      <td>29.667114</td>\n",
       "      <td>9.278188e+05</td>\n",
       "      <td>4.777181</td>\n",
       "      <td>0.275839</td>\n",
       "      <td>0.357047</td>\n",
       "    </tr>\n",
       "    <tr>\n",
       "      <th>std</th>\n",
       "      <td>430.270264</td>\n",
       "      <td>2.880994</td>\n",
       "      <td>3.811715e+05</td>\n",
       "      <td>1.640248</td>\n",
       "      <td>0.447086</td>\n",
       "      <td>0.479290</td>\n",
       "    </tr>\n",
       "    <tr>\n",
       "      <th>min</th>\n",
       "      <td>1.000000</td>\n",
       "      <td>25.000000</td>\n",
       "      <td>3.000000e+05</td>\n",
       "      <td>2.000000</td>\n",
       "      <td>0.000000</td>\n",
       "      <td>0.000000</td>\n",
       "    </tr>\n",
       "    <tr>\n",
       "      <th>25%</th>\n",
       "      <td>373.250000</td>\n",
       "      <td>28.000000</td>\n",
       "      <td>6.000000e+05</td>\n",
       "      <td>4.000000</td>\n",
       "      <td>0.000000</td>\n",
       "      <td>0.000000</td>\n",
       "    </tr>\n",
       "    <tr>\n",
       "      <th>50%</th>\n",
       "      <td>745.500000</td>\n",
       "      <td>29.000000</td>\n",
       "      <td>9.000000e+05</td>\n",
       "      <td>5.000000</td>\n",
       "      <td>0.000000</td>\n",
       "      <td>0.000000</td>\n",
       "    </tr>\n",
       "    <tr>\n",
       "      <th>75%</th>\n",
       "      <td>1117.750000</td>\n",
       "      <td>32.000000</td>\n",
       "      <td>1.250000e+06</td>\n",
       "      <td>6.000000</td>\n",
       "      <td>1.000000</td>\n",
       "      <td>1.000000</td>\n",
       "    </tr>\n",
       "    <tr>\n",
       "      <th>max</th>\n",
       "      <td>1490.000000</td>\n",
       "      <td>35.000000</td>\n",
       "      <td>1.800000e+06</td>\n",
       "      <td>9.000000</td>\n",
       "      <td>1.000000</td>\n",
       "      <td>1.000000</td>\n",
       "    </tr>\n",
       "  </tbody>\n",
       "</table>\n",
       "</div>"
      ],
      "text/plain": [
       "          Customer          Age  AnnualIncome  FamilyMembers  ChronicDiseases  \\\n",
       "count  1490.000000  1490.000000  1.490000e+03    1490.000000      1490.000000   \n",
       "mean    745.500000    29.667114  9.278188e+05       4.777181         0.275839   \n",
       "std     430.270264     2.880994  3.811715e+05       1.640248         0.447086   \n",
       "min       1.000000    25.000000  3.000000e+05       2.000000         0.000000   \n",
       "25%     373.250000    28.000000  6.000000e+05       4.000000         0.000000   \n",
       "50%     745.500000    29.000000  9.000000e+05       5.000000         0.000000   \n",
       "75%    1117.750000    32.000000  1.250000e+06       6.000000         1.000000   \n",
       "max    1490.000000    35.000000  1.800000e+06       9.000000         1.000000   \n",
       "\n",
       "       TravelInsurance  \n",
       "count      1490.000000  \n",
       "mean          0.357047  \n",
       "std           0.479290  \n",
       "min           0.000000  \n",
       "25%           0.000000  \n",
       "50%           0.000000  \n",
       "75%           1.000000  \n",
       "max           1.000000  "
      ]
     },
     "execution_count": 7,
     "metadata": {},
     "output_type": "execute_result"
    }
   ],
   "source": [
    "train_df.describe()"
   ]
  },
  {
   "cell_type": "code",
   "execution_count": 8,
   "metadata": {
    "id": "kzf7aOKfBjl1",
    "outputId": "2f03ad7f-92de-46af-c32d-f92120c757c9"
   },
   "outputs": [
    {
     "data": {
      "text/html": [
       "<div>\n",
       "<style scoped>\n",
       "    .dataframe tbody tr th:only-of-type {\n",
       "        vertical-align: middle;\n",
       "    }\n",
       "\n",
       "    .dataframe tbody tr th {\n",
       "        vertical-align: top;\n",
       "    }\n",
       "\n",
       "    .dataframe thead th {\n",
       "        text-align: right;\n",
       "    }\n",
       "</style>\n",
       "<table border=\"1\" class=\"dataframe\">\n",
       "  <thead>\n",
       "    <tr style=\"text-align: right;\">\n",
       "      <th></th>\n",
       "      <th>Customer</th>\n",
       "      <th>Age</th>\n",
       "      <th>AnnualIncome</th>\n",
       "      <th>FamilyMembers</th>\n",
       "      <th>ChronicDiseases</th>\n",
       "    </tr>\n",
       "  </thead>\n",
       "  <tbody>\n",
       "    <tr>\n",
       "      <th>count</th>\n",
       "      <td>497.000000</td>\n",
       "      <td>497.000000</td>\n",
       "      <td>4.970000e+02</td>\n",
       "      <td>497.00000</td>\n",
       "      <td>497.000000</td>\n",
       "    </tr>\n",
       "    <tr>\n",
       "      <th>mean</th>\n",
       "      <td>1739.000000</td>\n",
       "      <td>29.599598</td>\n",
       "      <td>9.475855e+05</td>\n",
       "      <td>4.68008</td>\n",
       "      <td>0.283702</td>\n",
       "    </tr>\n",
       "    <tr>\n",
       "      <th>std</th>\n",
       "      <td>143.615807</td>\n",
       "      <td>3.010506</td>\n",
       "      <td>3.635818e+05</td>\n",
       "      <td>1.51347</td>\n",
       "      <td>0.451248</td>\n",
       "    </tr>\n",
       "    <tr>\n",
       "      <th>min</th>\n",
       "      <td>1491.000000</td>\n",
       "      <td>25.000000</td>\n",
       "      <td>3.000000e+05</td>\n",
       "      <td>2.00000</td>\n",
       "      <td>0.000000</td>\n",
       "    </tr>\n",
       "    <tr>\n",
       "      <th>25%</th>\n",
       "      <td>1615.000000</td>\n",
       "      <td>28.000000</td>\n",
       "      <td>6.500000e+05</td>\n",
       "      <td>4.00000</td>\n",
       "      <td>0.000000</td>\n",
       "    </tr>\n",
       "    <tr>\n",
       "      <th>50%</th>\n",
       "      <td>1739.000000</td>\n",
       "      <td>29.000000</td>\n",
       "      <td>9.500000e+05</td>\n",
       "      <td>4.00000</td>\n",
       "      <td>0.000000</td>\n",
       "    </tr>\n",
       "    <tr>\n",
       "      <th>75%</th>\n",
       "      <td>1863.000000</td>\n",
       "      <td>32.000000</td>\n",
       "      <td>1.250000e+06</td>\n",
       "      <td>6.00000</td>\n",
       "      <td>1.000000</td>\n",
       "    </tr>\n",
       "    <tr>\n",
       "      <th>max</th>\n",
       "      <td>1987.000000</td>\n",
       "      <td>35.000000</td>\n",
       "      <td>1.750000e+06</td>\n",
       "      <td>9.00000</td>\n",
       "      <td>1.000000</td>\n",
       "    </tr>\n",
       "  </tbody>\n",
       "</table>\n",
       "</div>"
      ],
      "text/plain": [
       "          Customer         Age  AnnualIncome  FamilyMembers  ChronicDiseases\n",
       "count   497.000000  497.000000  4.970000e+02      497.00000       497.000000\n",
       "mean   1739.000000   29.599598  9.475855e+05        4.68008         0.283702\n",
       "std     143.615807    3.010506  3.635818e+05        1.51347         0.451248\n",
       "min    1491.000000   25.000000  3.000000e+05        2.00000         0.000000\n",
       "25%    1615.000000   28.000000  6.500000e+05        4.00000         0.000000\n",
       "50%    1739.000000   29.000000  9.500000e+05        4.00000         0.000000\n",
       "75%    1863.000000   32.000000  1.250000e+06        6.00000         1.000000\n",
       "max    1987.000000   35.000000  1.750000e+06        9.00000         1.000000"
      ]
     },
     "execution_count": 8,
     "metadata": {},
     "output_type": "execute_result"
    }
   ],
   "source": [
    "test_df.describe()"
   ]
  },
  {
   "cell_type": "code",
   "execution_count": 9,
   "metadata": {
    "id": "8nKpBwwGBjl2"
   },
   "outputs": [],
   "source": [
    "import seaborn as sns; sns.set()"
   ]
  },
  {
   "cell_type": "code",
   "execution_count": 10,
   "metadata": {
    "id": "ARwHol9oBjl3",
    "outputId": "771dffca-0422-4130-a97f-8f59e2eb8519",
    "scrolled": false
   },
   "outputs": [
    {
     "name": "stderr",
     "output_type": "stream",
     "text": [
      "/home/gabriel/anaconda3/lib/python3.8/site-packages/seaborn/axisgrid.py:1969: UserWarning: The `size` parameter has been renamed to `height`; please update your code.\n",
      "  warnings.warn(msg, UserWarning)\n"
     ]
    },
    {
     "data": {
      "image/png": "[encoded data removed]",
      "text/plain": [
       "<Figure size 1080x1080 with 30 Axes>"
      ]
     },
     "metadata": {},
     "output_type": "display_data"
    }
   ],
   "source": [
    "g = sns.pairplot(train_df,hue='TravelInsurance',size=1.5)\n",
    "g.fig.set_size_inches(15,15)"
   ]
  },
  {
   "cell_type": "code",
   "execution_count": 11,
   "metadata": {
    "id": "qgmtSyROBjl3",
    "outputId": "df037cc6-c3eb-44b6-eedc-e1639c93dbd0"
   },
   "outputs": [
    {
     "data": {
      "image/png": "[encoded data removed]",
      "text/plain": [
       "<Figure size 792x648 with 2 Axes>"
      ]
     },
     "metadata": {},
     "output_type": "display_data"
    }
   ],
   "source": [
    "f, ax = plt.subplots(figsize=(11, 9))\n",
    "corr = train_df.corr()\n",
    "corr_plot = sns.heatmap(corr, cmap=\"YlGnBu\", annot=True,ax=ax)"
   ]
  },
  {
   "cell_type": "markdown",
   "metadata": {
    "id": "A1EXzjySBjl4"
   },
   "source": [
    "## Baseline\n",
    "\n",
    "In this section we present a baseline based on a decision tree classifier.\n",
    "\n",
    "Many of the attributes are binary, there are a couple of numeric attributes, we might be able to one-hot (e.g. family members), or event discretize (age and anual income), this will come more clearly after the EDA."
   ]
  },
  {
   "cell_type": "code",
   "execution_count": 12,
   "metadata": {
    "id": "u9rwPdaeBjl5"
   },
   "outputs": [],
   "source": [
    "import sklearn\n",
    "import prince\n",
    "from sklearn.compose import make_column_transformer\n",
    "from sklearn.metrics import classification_report\n",
    "from sklearn.model_selection import GridSearchCV\n",
    "from sklearn.preprocessing import KBinsDiscretizer, OneHotEncoder"
   ]
  },
  {
   "cell_type": "markdown",
   "metadata": {
    "id": "79t2QYAEBjl5"
   },
   "source": [
    "### Transform the columns into features\n",
    "\n",
    "First we need to transform the columns into features. The type of features we use will have a direct impact on the final result. In this example we decided to discretize some numeric features and make a one hot encoding of others. The number of bins, what we use as a one hot encoding, etc, is all up to you to try it out."
   ]
  },
  {
   "cell_type": "code",
   "execution_count": 13,
   "metadata": {
    "id": "vagzwn7IBjl5"
   },
   "outputs": [],
   "source": [
    "# 4\n",
    "\n",
    "transformer = make_column_transformer(\n",
    "    (KBinsDiscretizer(n_bins=30, encode=\"onehot-dense\", strategy=\"uniform\"), [\"Age\", \"AnnualIncome\"]),\n",
    "    (OneHotEncoder(categories=\"auto\", dtype=\"int\", handle_unknown=\"ignore\"),\n",
    "     [\"Employment Type\", \"GraduateOrNot\", \"FamilyMembers\", \"FrequentFlyer\", \"EverTravelledAbroad\"]),\n",
    "    remainder=\"passthrough\")\n",
    "\n",
    "# 3\n",
    "\n",
    "# transformer = make_column_transformer(\n",
    "#     (KBinsDiscretizer(n_bins=20, encode=\"onehot-dense\", strategy=\"kmeans\"), [\"Age\", \"AnnualIncome\"]),\n",
    "#     (OneHotEncoder(categories=\"auto\", dtype=\"int\", handle_unknown=\"ignore\"),\n",
    "#      [\"Employment Type\", \"GraduateOrNot\", \"FamilyMembers\", \"FrequentFlyer\", \"EverTravelledAbroad\"]),\n",
    "#     remainder=\"passthrough\")\n",
    "\n",
    "# 2\n",
    "\n",
    "# transformer = make_column_transformer(\n",
    "#     (KBinsDiscretizer(n_bins=20, encode=\"onehot-dense\", strategy=\"uniform\"), [\"Age\", \"AnnualIncome\"]),\n",
    "#     (OneHotEncoder(categories=\"auto\", dtype=\"int\", handle_unknown=\"ignore\"),\n",
    "#      [\"Employment Type\", \"GraduateOrNot\", \"FamilyMembers\", \"FrequentFlyer\", \"EverTravelledAbroad\"]),\n",
    "#     remainder=\"passthrough\")\n",
    "\n",
    "# 1\n",
    "\n",
    "# transformer = make_column_transformer(\n",
    "#     (KBinsDiscretizer(n_bins=10, encode=\"ordinal\", strategy=\"quantile\"), [\"Age\", \"AnnualIncome\"]),\n",
    "#     (OneHotEncoder(categories=\"auto\", dtype=\"int\", handle_unknown=\"ignore\"),\n",
    "#      [\"Employment Type\", \"GraduateOrNot\", \"FamilyMembers\", \"FrequentFlyer\", \"EverTravelledAbroad\"]),\n",
    "#     remainder=\"passthrough\")"
   ]
  },
  {
   "cell_type": "markdown",
   "metadata": {
    "id": "5dbNd6g6Bjl6"
   },
   "source": [
    "We transform the train and test data. In order to avoid overfitting is better to remove the `Customer` column and we don't want the `TravelInsurance` column as part of the attributes either."
   ]
  },
  {
   "cell_type": "code",
   "execution_count": 14,
   "metadata": {
    "id": "CIwSMWfhBjl7",
    "outputId": "1688b0c9-c22b-4f63-8e66-bf6745b6fc39"
   },
   "outputs": [
    {
     "name": "stdout",
     "output_type": "stream",
     "text": [
      "(1490, 77)\n",
      "(1490,)\n",
      "(497, 77)\n"
     ]
    }
   ],
   "source": [
    "# The data for training the model\n",
    "X_train = transformer.fit_transform(train_df.drop(columns=[\"Customer\", \"TravelInsurance\"]))\n",
    "y_train = train_df[\"TravelInsurance\"].values\n",
    "\n",
    "# The test data is only for generating the submission\n",
    "X_test = transformer.transform(test_df.drop(columns=[\"Customer\"]))\n",
    "\n",
    "print(X_train.shape)\n",
    "print(y_train.shape)\n",
    "print(X_test.shape)"
   ]
  },
  {
   "cell_type": "code",
   "execution_count": 15,
   "metadata": {
    "id": "yXZgqMGTBjl7"
   },
   "outputs": [],
   "source": [
    "# from sklearn.model_selection import train_test_split\n",
    "# X_train, X_valid, y_train, y_valid = train_test_split(X_train,y_train,random_state=0,train_size=0.8)\n",
    "\n",
    "# print(X_train.shape)\n",
    "# print(y_train.shape)\n",
    "\n",
    "# print(X_valid.shape)\n",
    "# print(y_valid.shape)"
   ]
  },
  {
   "cell_type": "markdown",
   "metadata": {
    "id": "7Cr1ihVQBjl8"
   },
   "source": [
    "## Training"
   ]
  },
  {
   "cell_type": "markdown",
   "metadata": {
    "id": "8v2-sSk6Bjl9"
   },
   "source": [
    "### DecisionTreeClassifier (baseline)"
   ]
  },
  {
   "cell_type": "code",
   "execution_count": 16,
   "metadata": {
    "id": "qRXjugifBjl9"
   },
   "outputs": [],
   "source": [
    "from sklearn.tree import DecisionTreeClassifier\n",
    "search_params_decis_tree = {\n",
    "    'criterion': ['gini', 'entropy'],\n",
    "    'min_samples_leaf': [1, 2, 5],\n",
    "    'max_depth': [3, 6, 10, 15, 20]\n",
    "}\n",
    "model_decis_tree = DecisionTreeClassifier(random_state=42)"
   ]
  },
  {
   "cell_type": "code",
   "execution_count": 17,
   "metadata": {
    "id": "ncp7HOnrBjl9",
    "outputId": "1a78d7fa-6afe-4c79-adac-32bf002f51d8"
   },
   "outputs": [
    {
     "data": {
      "text/plain": [
       "DecisionTreeClassifier(criterion='entropy', max_depth=15, random_state=42)"
      ]
     },
     "execution_count": 17,
     "metadata": {},
     "output_type": "execute_result"
    }
   ],
   "source": [
    "grid_decis_tree = GridSearchCV(model_decis_tree, search_params_decis_tree, cv=5, scoring='f1', n_jobs=-1)\n",
    "grid_decis_tree.fit(X_train, y_train)\n",
    "\n",
    "best_decis_tree = grid_decis_tree.best_estimator_\n",
    "best_decis_tree"
   ]
  },
  {
   "cell_type": "code",
   "execution_count": 18,
   "metadata": {
    "id": "H33OSkKoBjl-",
    "outputId": "aff90bd9-ca54-49ec-b64a-f873445b730e"
   },
   "outputs": [
    {
     "name": "stdout",
     "output_type": "stream",
     "text": [
      "DecisionTreeClassifier\n",
      "\n",
      "              precision    recall  f1-score   support\n",
      "\n",
      "           0       0.84      0.99      0.91       958\n",
      "           1       0.98      0.67      0.79       532\n",
      "\n",
      "    accuracy                           0.88      1490\n",
      "   macro avg       0.91      0.83      0.85      1490\n",
      "weighted avg       0.89      0.88      0.87      1490\n",
      "\n"
     ]
    }
   ],
   "source": [
    "print('DecisionTreeClassifier\\n')\n",
    "print(classification_report(y_train, best_decis_tree.predict(X_train)))"
   ]
  },
  {
   "cell_type": "code",
   "execution_count": 19,
   "metadata": {
    "id": "zv_ERu_cBjl-"
   },
   "outputs": [],
   "source": [
    "# print('DecisionTreeClassifier: validation\\n')\n",
    "# print(classification_report(y_valid, best_decis_tree.predict(X_valid)))"
   ]
  },
  {
   "cell_type": "markdown",
   "metadata": {
    "id": "F9PqN6SOBjl-"
   },
   "source": [
    "### SGDClassifier"
   ]
  },
  {
   "cell_type": "code",
   "execution_count": 20,
   "metadata": {
    "id": "FWQEw1KjBjl_"
   },
   "outputs": [],
   "source": [
    "from sklearn.linear_model import SGDClassifier\n",
    "search_params_SGDC = {\n",
    "    'loss': ['hinge', 'log'],\n",
    "}\n",
    "model_SGDC = SGDClassifier(random_state=0)"
   ]
  },
  {
   "cell_type": "code",
   "execution_count": 21,
   "metadata": {
    "id": "V8gGCFNMBjl_",
    "outputId": "eac61d40-d4ce-406b-d6c6-e2325229f92b"
   },
   "outputs": [
    {
     "data": {
      "text/plain": [
       "SGDClassifier(random_state=0)"
      ]
     },
     "execution_count": 21,
     "metadata": {},
     "output_type": "execute_result"
    }
   ],
   "source": [
    "grid_SGDC = GridSearchCV(model_SGDC, search_params_SGDC, cv=5, scoring='f1', n_jobs=-1)\n",
    "grid_SGDC.fit(X_train, y_train)\n",
    "\n",
    "best_SGDC = grid_SGDC.best_estimator_\n",
    "best_SGDC"
   ]
  },
  {
   "cell_type": "code",
   "execution_count": 22,
   "metadata": {
    "id": "DeYB_X-eBjl_",
    "outputId": "dd243532-245f-4c40-cc77-0faecee9f6d6"
   },
   "outputs": [
    {
     "name": "stdout",
     "output_type": "stream",
     "text": [
      "SGDClassifier\n",
      "\n",
      "              precision    recall  f1-score   support\n",
      "\n",
      "           0       0.82      0.76      0.79       958\n",
      "           1       0.62      0.69      0.65       532\n",
      "\n",
      "    accuracy                           0.74      1490\n",
      "   macro avg       0.72      0.73      0.72      1490\n",
      "weighted avg       0.75      0.74      0.74      1490\n",
      "\n"
     ]
    }
   ],
   "source": [
    "print('SGDClassifier\\n')\n",
    "print(classification_report(y_train, best_SGDC.predict(X_train)))"
   ]
  },
  {
   "cell_type": "code",
   "execution_count": 23,
   "metadata": {
    "id": "9339cimbBjmA"
   },
   "outputs": [],
   "source": [
    "# print('SGDClassifier: validation\\n')\n",
    "# print(classification_report(y_valid, best_SGDC.predict(X_valid)))"
   ]
  },
  {
   "cell_type": "markdown",
   "metadata": {
    "id": "Psr8u5NjBjmA"
   },
   "source": [
    "### C-Support Vector Classifier (SVC)"
   ]
  },
  {
   "cell_type": "code",
   "execution_count": 24,
   "metadata": {
    "id": "nhjyot2RBjmA"
   },
   "outputs": [],
   "source": [
    "from sklearn.svm import SVC\n",
    "search_params_SVC = {\n",
    "    'C':[2.5,3.0,3.5,4.0,4.5],\n",
    "    'kernel': ['linear', 'poly', 'rbf', 'sigmoid'],\n",
    "    'degree':[1,2,3,4,5,6,7],\n",
    "    'gamma':['scale', 'auto']\n",
    "}\n",
    "model_SVC = SVC(random_state=0)"
   ]
  },
  {
   "cell_type": "code",
   "execution_count": 25,
   "metadata": {
    "id": "MLxKusmVBjmA",
    "outputId": "34f7bbba-2dbf-4b66-cc90-cae80ff4f239"
   },
   "outputs": [
    {
     "data": {
      "text/plain": [
       "SVC(C=4.0, degree=2, kernel='poly', random_state=0)"
      ]
     },
     "execution_count": 25,
     "metadata": {},
     "output_type": "execute_result"
    }
   ],
   "source": [
    "grid_SVC = GridSearchCV(model_SVC, search_params_SVC, cv=5, scoring='f1', n_jobs=-1)\n",
    "grid_SVC.fit(X_train, y_train)\n",
    "\n",
    "best_SVC = grid_SVC.best_estimator_\n",
    "best_SVC"
   ]
  },
  {
   "cell_type": "code",
   "execution_count": 26,
   "metadata": {
    "id": "jkyl5hnoBjmB",
    "outputId": "ae9b3403-9696-4c6a-ab27-add5c5bb3eef"
   },
   "outputs": [
    {
     "name": "stdout",
     "output_type": "stream",
     "text": [
      "SVC\n",
      "\n",
      "              precision    recall  f1-score   support\n",
      "\n",
      "           0       0.83      0.96      0.89       958\n",
      "           1       0.91      0.65      0.76       532\n",
      "\n",
      "    accuracy                           0.85      1490\n",
      "   macro avg       0.87      0.81      0.83      1490\n",
      "weighted avg       0.86      0.85      0.84      1490\n",
      "\n"
     ]
    }
   ],
   "source": [
    "print('SVC\\n')\n",
    "print(classification_report(y_train, best_SVC.predict(X_train)))"
   ]
  },
  {
   "cell_type": "code",
   "execution_count": 27,
   "metadata": {
    "id": "8n-cpwYzBjmB"
   },
   "outputs": [],
   "source": [
    "# print('SVC: validation\\n')\n",
    "# print(classification_report(y_valid, best_SVC.predict(X_valid)))"
   ]
  },
  {
   "cell_type": "code",
   "execution_count": 28,
   "metadata": {
    "id": "MxPCHQDABjmB"
   },
   "outputs": [],
   "source": [
    "# #probemos scaleando los datos (revisar esto)\n",
    "\n",
    "# from sklearn.preprocessing import StandardScaler\n",
    "# from sklearn.pipeline import make_pipeline\n",
    "# from sklearn.pipeline import Pipeline\n",
    "# from sklearn.metrics import f1_score\n",
    "\n",
    "# clf = make_pipeline(StandardScaler(), \n",
    "#                     GridSearchCV(model_SVC,\n",
    "#                                  param_grid=search_params_SVC,\n",
    "#                                  cv=5,\n",
    "#                                  scoring='f1',\n",
    "#                                  refit=True))\n",
    "\n",
    "# clf.fit(X_train, y_train)\n",
    "# print('f1 score:', f1_score(y_train, clf.predict(X_train)))"
   ]
  },
  {
   "cell_type": "markdown",
   "metadata": {
    "id": "Fv7_pJ7tBjmB"
   },
   "source": [
    "### Naive Bayes"
   ]
  },
  {
   "cell_type": "code",
   "execution_count": 29,
   "metadata": {
    "id": "s8a9KoqtBjmB"
   },
   "outputs": [],
   "source": [
    "from sklearn.naive_bayes import MultinomialNB\n",
    "from sklearn.naive_bayes import GaussianNB"
   ]
  },
  {
   "cell_type": "code",
   "execution_count": 30,
   "metadata": {
    "id": "NYwgHFBGBjmC",
    "outputId": "f8f391d1-6512-4654-fa52-ec6c5c87ee91"
   },
   "outputs": [
    {
     "name": "stdout",
     "output_type": "stream",
     "text": [
      "Naive Bayes\n",
      "\n",
      "              precision    recall  f1-score   support\n",
      "\n",
      "           0       0.76      0.98      0.86       958\n",
      "           1       0.93      0.44      0.60       532\n",
      "\n",
      "    accuracy                           0.79      1490\n",
      "   macro avg       0.85      0.71      0.73      1490\n",
      "weighted avg       0.82      0.79      0.76      1490\n",
      "\n"
     ]
    }
   ],
   "source": [
    "#clf = MultinomialNB()\n",
    "model_NB = GaussianNB()\n",
    "model_NB.fit(X_train, y_train)\n",
    "\n",
    "print('Naive Bayes\\n')\n",
    "print(classification_report(y_train, model_NB.predict(X_train)))"
   ]
  },
  {
   "cell_type": "code",
   "execution_count": 31,
   "metadata": {
    "id": "lJOsEJ_sBjmC"
   },
   "outputs": [],
   "source": [
    "# print('Naive Bayes: validation\\n')\n",
    "# print(classification_report(y_valid, model_NB.predict(X_valid)))"
   ]
  },
  {
   "cell_type": "markdown",
   "metadata": {
    "id": "29Nudrm9BjmC"
   },
   "source": [
    "### RandomForestClassifier"
   ]
  },
  {
   "cell_type": "code",
   "execution_count": 32,
   "metadata": {
    "id": "cQcJaBzHBjmC"
   },
   "outputs": [],
   "source": [
    "from sklearn import ensemble\n",
    "search_params_RFC = {\n",
    "    'n_estimators':[5,10,20,30]\n",
    "}\n",
    "model_RFC = ensemble.RandomForestClassifier(random_state=0)"
   ]
  },
  {
   "cell_type": "code",
   "execution_count": 33,
   "metadata": {
    "id": "r4puvSaDBjmC",
    "outputId": "576e5145-ff58-41d8-e39a-9ddac052a2a0"
   },
   "outputs": [
    {
     "data": {
      "text/plain": [
       "RandomForestClassifier(n_estimators=30, random_state=0)"
      ]
     },
     "execution_count": 33,
     "metadata": {},
     "output_type": "execute_result"
    }
   ],
   "source": [
    "grid_RFC = GridSearchCV(model_RFC, search_params_RFC, cv=5, scoring='f1', n_jobs=-1)\n",
    "grid_RFC.fit(X_train, y_train)\n",
    "\n",
    "best_RFC = grid_RFC.best_estimator_\n",
    "best_RFC"
   ]
  },
  {
   "cell_type": "code",
   "execution_count": 34,
   "metadata": {
    "id": "REcqY5qVBjmD",
    "outputId": "4d2289bc-212a-4b8d-c599-12e265612979"
   },
   "outputs": [
    {
     "name": "stdout",
     "output_type": "stream",
     "text": [
      "RandomForestClassifier\n",
      "\n",
      "              precision    recall  f1-score   support\n",
      "\n",
      "           0       0.93      0.97      0.95       958\n",
      "           1       0.94      0.86      0.90       532\n",
      "\n",
      "    accuracy                           0.93      1490\n",
      "   macro avg       0.93      0.92      0.92      1490\n",
      "weighted avg       0.93      0.93      0.93      1490\n",
      "\n"
     ]
    }
   ],
   "source": [
    "print('RandomForestClassifier\\n')\n",
    "print(classification_report(y_train, best_RFC.predict(X_train)))"
   ]
  },
  {
   "cell_type": "code",
   "execution_count": 35,
   "metadata": {
    "id": "ZQi-QXRQBjmD"
   },
   "outputs": [],
   "source": [
    "# print('RandomForestClassifier: validation\\n')\n",
    "# print(classification_report(y_valid, best_RFC.predict(X_valid)))"
   ]
  },
  {
   "cell_type": "markdown",
   "metadata": {
    "id": "i33Yv8o9BjmD"
   },
   "source": [
    "### Voting"
   ]
  },
  {
   "cell_type": "code",
   "execution_count": 36,
   "metadata": {
    "id": "Mvl20b4QBjmD"
   },
   "outputs": [],
   "source": [
    "# from sklearn.ensemble import VotingClassifier\n",
    "\n",
    "# model_voting_hard = VotingClassifier(estimators=[\n",
    "#     ('SVC', model_SVC), ('RFC', model_RFC)], voting='hard')\n",
    "\n",
    "# model_voting_hard.fit(X_train, y_train)\n",
    "# print(classification_report(y_train, model_voting_hard.predict(X_train)))"
   ]
  },
  {
   "cell_type": "markdown",
   "metadata": {
    "id": "aN_W9523BjmD"
   },
   "source": [
    "### Bagging with KNeighborsClassifier"
   ]
  },
  {
   "cell_type": "code",
   "execution_count": 37,
   "metadata": {
    "id": "2k0-1vOoBjmE",
    "outputId": "88264eae-2062-49fd-c53e-f7073927d16e"
   },
   "outputs": [
    {
     "name": "stdout",
     "output_type": "stream",
     "text": [
      "Bagging with KNeighborsClassifier\n",
      "\n",
      "              precision    recall  f1-score   support\n",
      "\n",
      "           0       0.78      0.97      0.87       958\n",
      "           1       0.91      0.51      0.65       532\n",
      "\n",
      "    accuracy                           0.81      1490\n",
      "   macro avg       0.84      0.74      0.76      1490\n",
      "weighted avg       0.83      0.81      0.79      1490\n",
      "\n"
     ]
    }
   ],
   "source": [
    "from sklearn.ensemble import BaggingClassifier\n",
    "from sklearn.neighbors import KNeighborsClassifier\n",
    "bagging = BaggingClassifier(KNeighborsClassifier(5),\n",
    "                            max_samples=0.5, max_features=0.5)\n",
    "\n",
    "bagging.fit(X_train, y_train)\n",
    "print('Bagging with KNeighborsClassifier\\n')\n",
    "print(classification_report(y_train, bagging.predict(X_train)))"
   ]
  },
  {
   "cell_type": "code",
   "execution_count": 38,
   "metadata": {
    "id": "Lhw1-SqOBjmE"
   },
   "outputs": [],
   "source": [
    "# print('Bagging with KNeighborsClassifier: validation\\n')\n",
    "# print(classification_report(y_valid, bagging.predict(X_valid)))"
   ]
  },
  {
   "cell_type": "markdown",
   "metadata": {
    "id": "Xbx2bREDBjmE"
   },
   "source": [
    "### AdaBoostClassifier"
   ]
  },
  {
   "cell_type": "code",
   "execution_count": 39,
   "metadata": {
    "id": "vV4pBUKCBjmE",
    "outputId": "e24c52f7-ce72-4087-9287-6417cf83456c"
   },
   "outputs": [
    {
     "name": "stdout",
     "output_type": "stream",
     "text": [
      "AdaBoostClassifier\n",
      "\n",
      "              precision    recall  f1-score   support\n",
      "\n",
      "           0       0.77      0.96      0.85       958\n",
      "           1       0.86      0.50      0.63       532\n",
      "\n",
      "    accuracy                           0.79      1490\n",
      "   macro avg       0.82      0.73      0.74      1490\n",
      "weighted avg       0.80      0.79      0.77      1490\n",
      "\n"
     ]
    }
   ],
   "source": [
    "from sklearn.ensemble import AdaBoostClassifier\n",
    "\n",
    "search_params_AdaBoost = {\n",
    "    'n_estimators':[5,10,20,30],\n",
    "    'learning_rate':[1.0,5.0,10.0,20.0]\n",
    "}\n",
    "\n",
    "model_AdaBoost = AdaBoostClassifier(random_state=0)\n",
    "grid_AdaBoost = GridSearchCV(model_AdaBoost, search_params_AdaBoost, cv=5, scoring='f1', n_jobs=-1)\n",
    "\n",
    "grid_AdaBoost.fit(X_train, y_train)\n",
    "print('AdaBoostClassifier\\n')\n",
    "print(classification_report(y_train, grid_AdaBoost.predict(X_train)))"
   ]
  },
  {
   "cell_type": "code",
   "execution_count": 40,
   "metadata": {
    "id": "zM5bXtikBjmE"
   },
   "outputs": [],
   "source": [
    "# print('AdaBoostClassifier: validation\\n')\n",
    "# print(classification_report(y_valid, grid_AdaBoost.predict(X_valid)))"
   ]
  },
  {
   "cell_type": "markdown",
   "metadata": {
    "id": "vVuf0rfsBjmF"
   },
   "source": [
    "### Validation\n",
    "\n",
    "We can print the results of the best estimator found on the whole training set (we could also set apart a validation set if we find it useful)."
   ]
  },
  {
   "cell_type": "code",
   "execution_count": 41,
   "metadata": {
    "id": "rwOuBYPtBjmF"
   },
   "outputs": [],
   "source": [
    "### print(classification_report(y_train, best_tree_clf.predict(X_train)))"
   ]
  },
  {
   "cell_type": "markdown",
   "metadata": {
    "id": "ERMmfAGBBjmF"
   },
   "source": [
    "## Generate the output\n",
    "\n",
    "The last thing we do is generating a file that should be *submitted* on kaggle"
   ]
  },
  {
   "cell_type": "code",
   "execution_count": 42,
   "metadata": {
    "id": "FgRjk3VMBjmF",
    "outputId": "e4f7d49a-8324-4654-cee4-391a443ba89b"
   },
   "outputs": [],
   "source": [
    "# test_id = test_df[\"Customer\"]\n",
    "\n",
    "# # SGDC\n",
    "\n",
    "# test_pred_SGDC = best_SGDC.predict(X_test)\n",
    "\n",
    "# submission_SGDC = pd.DataFrame(list(zip(test_id, test_pred_SGDC)), columns=[\"Customer\", \"TravelInsurance\"])\n",
    "# submission_SGDC.to_csv(\"../data/travel_insurance_submission_SGDC_4.csv\", header=True, index=False)\n",
    "# print(len(submission_SGDC))\n",
    "\n",
    "# # SVC\n",
    "\n",
    "# test_pred_SVC = best_SVC.predict(X_test)\n",
    "\n",
    "# submission_SVC = pd.DataFrame(list(zip(test_id, test_pred_SVC)), columns=[\"Customer\", \"TravelInsurance\"])\n",
    "# submission_SVC.to_csv(\"../data/travel_insurance_submission_SVC_4.csv\", header=True, index=False)\n",
    "# print(len(submission_SVC))\n",
    "\n",
    "# # NB\n",
    "\n",
    "# test_pred_NB = model_NB.predict(X_test)\n",
    "\n",
    "# submission_NB = pd.DataFrame(list(zip(test_id, test_pred_NB)), columns=[\"Customer\", \"TravelInsurance\"])\n",
    "# submission_NB.to_csv(\"../data/travel_insurance_submission_NB_4.csv\", header=True, index=False)\n",
    "# print(len(submission_NB))\n",
    "\n",
    "# # Bagging with KNeighborsClassifier\n",
    "\n",
    "# test_pred_bagg = bagging.predict(X_test)\n",
    "\n",
    "# submission_bagg = pd.DataFrame(list(zip(test_id, test_pred_bagg)), columns=[\"Customer\", \"TravelInsurance\"])\n",
    "# submission_bagg.to_csv(\"../data/travel_insurance_submission_bagg_4.csv\", header=True, index=False)\n",
    "# print(len(submission_bagg))\n",
    "\n",
    "# # AdaBoostClassifier\n",
    "\n",
    "# test_pred_boost = grid_AdaBoost.predict(X_test)\n",
    "\n",
    "# submission_boost = pd.DataFrame(list(zip(test_id, test_pred_boost)), columns=[\"Customer\", \"TravelInsurance\"])\n",
    "# submission_boost.to_csv(\"../data/travel_insurance_submission_boost_4.csv\", header=True, index=False)\n",
    "# print(len(submission_boost))"
   ]
  },
  {
   "cell_type": "code",
   "execution_count": 43,
   "metadata": {
    "executionInfo": {
     "elapsed": 855,
     "status": "ok",
     "timestamp": 1632320600010,
     "user": {
      "displayName": "Hugo Carignano",
      "photoUrl": "https://lh3.googleusercontent.com/a-/AOh14GghlBIEB1E06zcwUUK6G2hjSk8W8yEYXdTtbaJTLw=s64",
      "userId": "08546365168766205680"
     },
     "user_tz": 180
    },
    "id": "2DIx_Xog46P6"
   },
   "outputs": [],
   "source": [
    "#import os\n",
    "\n",
    "#import numpy as np\n",
    "#import pandas as pd\n",
    "#import matplotlib.pyplot as plt\n",
    "#from sklearn import preprocessing\n"
   ]
  },
  {
   "cell_type": "code",
   "execution_count": 44,
   "metadata": {
    "colab": {
     "base_uri": "https://localhost:8080/"
    },
    "executionInfo": {
     "elapsed": 3971,
     "status": "ok",
     "timestamp": 1632317063952,
     "user": {
      "displayName": "Hugo Carignano",
      "photoUrl": "https://lh3.googleusercontent.com/a-/AOh14GghlBIEB1E06zcwUUK6G2hjSk8W8yEYXdTtbaJTLw=s64",
      "userId": "08546365168766205680"
     },
     "user_tz": 180
    },
    "id": "IfwTeoo5BjmF",
    "outputId": "48ccab6a-d70e-4157-f3d2-8ed0fb438fab"
   },
   "outputs": [],
   "source": [
    "#! pip install prince"
   ]
  },
  {
   "cell_type": "code",
   "execution_count": 45,
   "metadata": {
    "colab": {
     "base_uri": "https://localhost:8080/"
    },
    "executionInfo": {
     "elapsed": 38977,
     "status": "ok",
     "timestamp": 1632317106333,
     "user": {
      "displayName": "Hugo Carignano",
      "photoUrl": "https://lh3.googleusercontent.com/a-/AOh14GghlBIEB1E06zcwUUK6G2hjSk8W8yEYXdTtbaJTLw=s64",
      "userId": "08546365168766205680"
     },
     "user_tz": 180
    },
    "id": "GA0IIgHMqPoU",
    "outputId": "870c2337-2221-4250-9e33-b145e17cae9f"
   },
   "outputs": [],
   "source": [
    "#from google.colab import drive\n",
    "#drive.mount('/content/drive')"
   ]
  },
  {
   "cell_type": "code",
   "execution_count": 46,
   "metadata": {
    "executionInfo": {
     "elapsed": 253,
     "status": "ok",
     "timestamp": 1632317108935,
     "user": {
      "displayName": "Hugo Carignano",
      "photoUrl": "https://lh3.googleusercontent.com/a-/AOh14GghlBIEB1E06zcwUUK6G2hjSk8W8yEYXdTtbaJTLw=s64",
      "userId": "08546365168766205680"
     },
     "user_tz": 180
    },
    "id": "aKAdMDI1qfOe"
   },
   "outputs": [],
   "source": [
    "#import os\n",
    "#os.chdir('/content/drive/My Drive/Mentoria_Img/mentoria-deteccion-de-objetos-en-imagenes/')"
   ]
  },
  {
   "cell_type": "code",
   "execution_count": 47,
   "metadata": {
    "executionInfo": {
     "elapsed": 297,
     "status": "ok",
     "timestamp": 1632328001076,
     "user": {
      "displayName": "Hugo Carignano",
      "photoUrl": "https://lh3.googleusercontent.com/a-/AOh14GghlBIEB1E06zcwUUK6G2hjSk8W8yEYXdTtbaJTLw=s64",
      "userId": "08546365168766205680"
     },
     "user_tz": 180
    },
    "id": "i64bA-HVqjSv"
   },
   "outputs": [],
   "source": [
    "#Se cargaron los dataset de train y test\n",
    "#train_df = pd.read_csv(\"./travel_insurance_prediction_train.csv\")\n",
    "#test_df = pd.read_csv(\"./travel_insurance_prediction_test.csv\")"
   ]
  },
  {
   "cell_type": "code",
   "execution_count": 48,
   "metadata": {
    "executionInfo": {
     "elapsed": 6,
     "status": "ok",
     "timestamp": 1632328002922,
     "user": {
      "displayName": "Hugo Carignano",
      "photoUrl": "https://lh3.googleusercontent.com/a-/AOh14GghlBIEB1E06zcwUUK6G2hjSk8W8yEYXdTtbaJTLw=s64",
      "userId": "08546365168766205680"
     },
     "user_tz": 180
    },
    "id": "r6vUuv-D4dXU"
   },
   "outputs": [],
   "source": [
    "#Definición de las variables numericas para train y test\n",
    "train_df_numeric = train_df[['Age', 'AnnualIncome', 'FamilyMembers']]\n",
    "test_df_numeric = test_df[['Age', 'AnnualIncome', 'FamilyMembers']]"
   ]
  },
  {
   "cell_type": "code",
   "execution_count": 49,
   "metadata": {
    "executionInfo": {
     "elapsed": 13,
     "status": "ok",
     "timestamp": 1632328006006,
     "user": {
      "displayName": "Hugo Carignano",
      "photoUrl": "https://lh3.googleusercontent.com/a-/AOh14GghlBIEB1E06zcwUUK6G2hjSk8W8yEYXdTtbaJTLw=s64",
      "userId": "08546365168766205680"
     },
     "user_tz": 180
    },
    "id": "MsdXIK9c4ix7"
   },
   "outputs": [],
   "source": [
    "#Obtención de las variables categóricas para train y test\n",
    "train_df_cat = train_df.select_dtypes(include=['object'])\n",
    "test_df_cat = test_df.select_dtypes(include=['object'])"
   ]
  },
  {
   "cell_type": "code",
   "execution_count": 50,
   "metadata": {
    "executionInfo": {
     "elapsed": 14,
     "status": "ok",
     "timestamp": 1632328007388,
     "user": {
      "displayName": "Hugo Carignano",
      "photoUrl": "https://lh3.googleusercontent.com/a-/AOh14GghlBIEB1E06zcwUUK6G2hjSk8W8yEYXdTtbaJTLw=s64",
      "userId": "08546365168766205680"
     },
     "user_tz": 180
    },
    "id": "TQi3N4FK4w7G"
   },
   "outputs": [],
   "source": [
    "#Estandarización de los valores de las variables numéricas para el dataset de train \n",
    "train_df_numeric_norm = sklearn.preprocessing.power_transform(train_df_numeric, method='yeo-johnson', standardize=True, copy=True)"
   ]
  },
  {
   "cell_type": "code",
   "execution_count": 51,
   "metadata": {
    "executionInfo": {
     "elapsed": 11,
     "status": "ok",
     "timestamp": 1632328009202,
     "user": {
      "displayName": "Hugo Carignano",
      "photoUrl": "https://lh3.googleusercontent.com/a-/AOh14GghlBIEB1E06zcwUUK6G2hjSk8W8yEYXdTtbaJTLw=s64",
      "userId": "08546365168766205680"
     },
     "user_tz": 180
    },
    "id": "H-3QSYxM5DE3"
   },
   "outputs": [],
   "source": [
    "#Estandarización de los valores de las variables numéricvas para el dataset de test\n",
    "test_df_numeric_norm = sklearn.preprocessing.power_transform(test_df_numeric, method='yeo-johnson', standardize=True, copy=True)"
   ]
  },
  {
   "cell_type": "code",
   "execution_count": 52,
   "metadata": {
    "executionInfo": {
     "elapsed": 249,
     "status": "ok",
     "timestamp": 1632328011662,
     "user": {
      "displayName": "Hugo Carignano",
      "photoUrl": "https://lh3.googleusercontent.com/a-/AOh14GghlBIEB1E06zcwUUK6G2hjSk8W8yEYXdTtbaJTLw=s64",
      "userId": "08546365168766205680"
     },
     "user_tz": 180
    },
    "id": "UogyLylw5JAM"
   },
   "outputs": [],
   "source": [
    "column_names = [\"Age\", \"AnnualIncome\", \"FamilyMembers\"]\n",
    "train_df_numeric_norm = pd.DataFrame(train_df_numeric_norm, columns=column_names)"
   ]
  },
  {
   "cell_type": "code",
   "execution_count": 53,
   "metadata": {
    "executionInfo": {
     "elapsed": 9,
     "status": "ok",
     "timestamp": 1632328013344,
     "user": {
      "displayName": "Hugo Carignano",
      "photoUrl": "https://lh3.googleusercontent.com/a-/AOh14GghlBIEB1E06zcwUUK6G2hjSk8W8yEYXdTtbaJTLw=s64",
      "userId": "08546365168766205680"
     },
     "user_tz": 180
    },
    "id": "KgqKgj8U5N9R"
   },
   "outputs": [],
   "source": [
    "test_df_numeric_norm = pd.DataFrame(test_df_numeric_norm, columns=column_names)"
   ]
  },
  {
   "cell_type": "code",
   "execution_count": 54,
   "metadata": {
    "colab": {
     "base_uri": "https://localhost:8080/",
     "height": 408
    },
    "executionInfo": {
     "elapsed": 30,
     "status": "ok",
     "timestamp": 1632328016345,
     "user": {
      "displayName": "Hugo Carignano",
      "photoUrl": "https://lh3.googleusercontent.com/a-/AOh14GghlBIEB1E06zcwUUK6G2hjSk8W8yEYXdTtbaJTLw=s64",
      "userId": "08546365168766205680"
     },
     "user_tz": 180
    },
    "id": "fjPv2w1w5V13",
    "outputId": "54813c0b-2830-4354-ec04-4f972423c4da"
   },
   "outputs": [
    {
     "data": {
      "text/html": [
       "<div>\n",
       "<style scoped>\n",
       "    .dataframe tbody tr th:only-of-type {\n",
       "        vertical-align: middle;\n",
       "    }\n",
       "\n",
       "    .dataframe tbody tr th {\n",
       "        vertical-align: top;\n",
       "    }\n",
       "\n",
       "    .dataframe thead th {\n",
       "        text-align: right;\n",
       "    }\n",
       "</style>\n",
       "<table border=\"1\" class=\"dataframe\">\n",
       "  <thead>\n",
       "    <tr style=\"text-align: right;\">\n",
       "      <th></th>\n",
       "      <th>Age</th>\n",
       "      <th>AnnualIncome</th>\n",
       "      <th>FamilyMembers</th>\n",
       "      <th>Employment Type</th>\n",
       "      <th>GraduateOrNot</th>\n",
       "      <th>FrequentFlyer</th>\n",
       "      <th>EverTravelledAbroad</th>\n",
       "    </tr>\n",
       "  </thead>\n",
       "  <tbody>\n",
       "    <tr>\n",
       "      <th>0</th>\n",
       "      <td>1.143045</td>\n",
       "      <td>-0.978311</td>\n",
       "      <td>0.812057</td>\n",
       "      <td>Private Sector/Self Employed</td>\n",
       "      <td>Yes</td>\n",
       "      <td>No</td>\n",
       "      <td>No</td>\n",
       "    </tr>\n",
       "    <tr>\n",
       "      <th>1</th>\n",
       "      <td>-0.531112</td>\n",
       "      <td>-0.263304</td>\n",
       "      <td>1.296295</td>\n",
       "      <td>Private Sector/Self Employed</td>\n",
       "      <td>Yes</td>\n",
       "      <td>Yes</td>\n",
       "      <td>No</td>\n",
       "    </tr>\n",
       "    <tr>\n",
       "      <th>2</th>\n",
       "      <td>0.524773</td>\n",
       "      <td>0.857013</td>\n",
       "      <td>-0.380029</td>\n",
       "      <td>Private Sector/Self Employed</td>\n",
       "      <td>Yes</td>\n",
       "      <td>No</td>\n",
       "      <td>No</td>\n",
       "    </tr>\n",
       "    <tr>\n",
       "      <th>3</th>\n",
       "      <td>0.524773</td>\n",
       "      <td>-1.816419</td>\n",
       "      <td>1.296295</td>\n",
       "      <td>Government Sector</td>\n",
       "      <td>No</td>\n",
       "      <td>No</td>\n",
       "      <td>No</td>\n",
       "    </tr>\n",
       "    <tr>\n",
       "      <th>4</th>\n",
       "      <td>-0.531112</td>\n",
       "      <td>0.857013</td>\n",
       "      <td>-1.148922</td>\n",
       "      <td>Private Sector/Self Employed</td>\n",
       "      <td>Yes</td>\n",
       "      <td>No</td>\n",
       "      <td>No</td>\n",
       "    </tr>\n",
       "    <tr>\n",
       "      <th>...</th>\n",
       "      <td>...</td>\n",
       "      <td>...</td>\n",
       "      <td>...</td>\n",
       "      <td>...</td>\n",
       "      <td>...</td>\n",
       "      <td>...</td>\n",
       "      <td>...</td>\n",
       "    </tr>\n",
       "    <tr>\n",
       "      <th>1485</th>\n",
       "      <td>0.524773</td>\n",
       "      <td>-1.816419</td>\n",
       "      <td>0.260972</td>\n",
       "      <td>Government Sector</td>\n",
       "      <td>No</td>\n",
       "      <td>No</td>\n",
       "      <td>No</td>\n",
       "    </tr>\n",
       "    <tr>\n",
       "      <th>1486</th>\n",
       "      <td>0.524773</td>\n",
       "      <td>0.129219</td>\n",
       "      <td>-1.148922</td>\n",
       "      <td>Private Sector/Self Employed</td>\n",
       "      <td>Yes</td>\n",
       "      <td>Yes</td>\n",
       "      <td>No</td>\n",
       "    </tr>\n",
       "    <tr>\n",
       "      <th>1487</th>\n",
       "      <td>-0.531112</td>\n",
       "      <td>0.857013</td>\n",
       "      <td>0.260972</td>\n",
       "      <td>Private Sector/Self Employed</td>\n",
       "      <td>Yes</td>\n",
       "      <td>No</td>\n",
       "      <td>No</td>\n",
       "    </tr>\n",
       "    <tr>\n",
       "      <th>1488</th>\n",
       "      <td>0.524773</td>\n",
       "      <td>0.972308</td>\n",
       "      <td>0.260972</td>\n",
       "      <td>Government Sector</td>\n",
       "      <td>Yes</td>\n",
       "      <td>No</td>\n",
       "      <td>No</td>\n",
       "    </tr>\n",
       "    <tr>\n",
       "      <th>1489</th>\n",
       "      <td>0.191394</td>\n",
       "      <td>-0.681426</td>\n",
       "      <td>-0.380029</td>\n",
       "      <td>Private Sector/Self Employed</td>\n",
       "      <td>No</td>\n",
       "      <td>No</td>\n",
       "      <td>No</td>\n",
       "    </tr>\n",
       "  </tbody>\n",
       "</table>\n",
       "<p>1490 rows × 7 columns</p>\n",
       "</div>"
      ],
      "text/plain": [
       "           Age  AnnualIncome  FamilyMembers               Employment Type  \\\n",
       "0     1.143045     -0.978311       0.812057  Private Sector/Self Employed   \n",
       "1    -0.531112     -0.263304       1.296295  Private Sector/Self Employed   \n",
       "2     0.524773      0.857013      -0.380029  Private Sector/Self Employed   \n",
       "3     0.524773     -1.816419       1.296295             Government Sector   \n",
       "4    -0.531112      0.857013      -1.148922  Private Sector/Self Employed   \n",
       "...        ...           ...            ...                           ...   \n",
       "1485  0.524773     -1.816419       0.260972             Government Sector   \n",
       "1486  0.524773      0.129219      -1.148922  Private Sector/Self Employed   \n",
       "1487 -0.531112      0.857013       0.260972  Private Sector/Self Employed   \n",
       "1488  0.524773      0.972308       0.260972             Government Sector   \n",
       "1489  0.191394     -0.681426      -0.380029  Private Sector/Self Employed   \n",
       "\n",
       "     GraduateOrNot FrequentFlyer EverTravelledAbroad  \n",
       "0              Yes            No                  No  \n",
       "1              Yes           Yes                  No  \n",
       "2              Yes            No                  No  \n",
       "3               No            No                  No  \n",
       "4              Yes            No                  No  \n",
       "...            ...           ...                 ...  \n",
       "1485            No            No                  No  \n",
       "1486           Yes           Yes                  No  \n",
       "1487           Yes            No                  No  \n",
       "1488           Yes            No                  No  \n",
       "1489            No            No                  No  \n",
       "\n",
       "[1490 rows x 7 columns]"
      ]
     },
     "execution_count": 54,
     "metadata": {},
     "output_type": "execute_result"
    }
   ],
   "source": [
    "#Unión de las variables numéricas estandarizadas con las categóricas para train\n",
    "train_df_1 = pd.concat([train_df_numeric_norm,train_df_cat],axis=1)\n",
    "train_df_1"
   ]
  },
  {
   "cell_type": "code",
   "execution_count": 55,
   "metadata": {
    "colab": {
     "base_uri": "https://localhost:8080/",
     "height": 408
    },
    "executionInfo": {
     "elapsed": 603,
     "status": "ok",
     "timestamp": 1632328021395,
     "user": {
      "displayName": "Hugo Carignano",
      "photoUrl": "https://lh3.googleusercontent.com/a-/AOh14GghlBIEB1E06zcwUUK6G2hjSk8W8yEYXdTtbaJTLw=s64",
      "userId": "08546365168766205680"
     },
     "user_tz": 180
    },
    "id": "9tLMvwwy5cfo",
    "outputId": "f36532db-da78-451a-fa6b-244b7c8ad176"
   },
   "outputs": [
    {
     "data": {
      "text/html": [
       "<div>\n",
       "<style scoped>\n",
       "    .dataframe tbody tr th:only-of-type {\n",
       "        vertical-align: middle;\n",
       "    }\n",
       "\n",
       "    .dataframe tbody tr th {\n",
       "        vertical-align: top;\n",
       "    }\n",
       "\n",
       "    .dataframe thead th {\n",
       "        text-align: right;\n",
       "    }\n",
       "</style>\n",
       "<table border=\"1\" class=\"dataframe\">\n",
       "  <thead>\n",
       "    <tr style=\"text-align: right;\">\n",
       "      <th></th>\n",
       "      <th>Age</th>\n",
       "      <th>AnnualIncome</th>\n",
       "      <th>FamilyMembers</th>\n",
       "      <th>Employment Type</th>\n",
       "      <th>GraduateOrNot</th>\n",
       "      <th>FrequentFlyer</th>\n",
       "      <th>EverTravelledAbroad</th>\n",
       "    </tr>\n",
       "  </thead>\n",
       "  <tbody>\n",
       "    <tr>\n",
       "      <th>0</th>\n",
       "      <td>-0.109699</td>\n",
       "      <td>0.451578</td>\n",
       "      <td>-0.367616</td>\n",
       "      <td>Private Sector/Self Employed</td>\n",
       "      <td>Yes</td>\n",
       "      <td>No</td>\n",
       "      <td>No</td>\n",
       "    </tr>\n",
       "    <tr>\n",
       "      <th>1</th>\n",
       "      <td>-0.468785</td>\n",
       "      <td>-0.504136</td>\n",
       "      <td>0.312994</td>\n",
       "      <td>Private Sector/Self Employed</td>\n",
       "      <td>Yes</td>\n",
       "      <td>Yes</td>\n",
       "      <td>No</td>\n",
       "    </tr>\n",
       "    <tr>\n",
       "      <th>2</th>\n",
       "      <td>0.543228</td>\n",
       "      <td>1.463404</td>\n",
       "      <td>-0.367616</td>\n",
       "      <td>Government Sector</td>\n",
       "      <td>Yes</td>\n",
       "      <td>Yes</td>\n",
       "      <td>Yes</td>\n",
       "    </tr>\n",
       "    <tr>\n",
       "      <th>3</th>\n",
       "      <td>-0.468785</td>\n",
       "      <td>1.216789</td>\n",
       "      <td>-1.167125</td>\n",
       "      <td>Private Sector/Self Employed</td>\n",
       "      <td>Yes</td>\n",
       "      <td>No</td>\n",
       "      <td>Yes</td>\n",
       "    </tr>\n",
       "    <tr>\n",
       "      <th>4</th>\n",
       "      <td>1.121699</td>\n",
       "      <td>1.463404</td>\n",
       "      <td>-0.367616</td>\n",
       "      <td>Private Sector/Self Employed</td>\n",
       "      <td>Yes</td>\n",
       "      <td>Yes</td>\n",
       "      <td>Yes</td>\n",
       "    </tr>\n",
       "    <tr>\n",
       "      <th>...</th>\n",
       "      <td>...</td>\n",
       "      <td>...</td>\n",
       "      <td>...</td>\n",
       "      <td>...</td>\n",
       "      <td>...</td>\n",
       "      <td>...</td>\n",
       "      <td>...</td>\n",
       "    </tr>\n",
       "    <tr>\n",
       "      <th>492</th>\n",
       "      <td>1.121699</td>\n",
       "      <td>2.064596</td>\n",
       "      <td>0.908380</td>\n",
       "      <td>Government Sector</td>\n",
       "      <td>Yes</td>\n",
       "      <td>No</td>\n",
       "      <td>No</td>\n",
       "    </tr>\n",
       "    <tr>\n",
       "      <th>493</th>\n",
       "      <td>-1.705919</td>\n",
       "      <td>0.582063</td>\n",
       "      <td>-1.167125</td>\n",
       "      <td>Private Sector/Self Employed</td>\n",
       "      <td>No</td>\n",
       "      <td>No</td>\n",
       "      <td>No</td>\n",
       "    </tr>\n",
       "    <tr>\n",
       "      <th>494</th>\n",
       "      <td>-0.109699</td>\n",
       "      <td>0.319763</td>\n",
       "      <td>0.312994</td>\n",
       "      <td>Private Sector/Self Employed</td>\n",
       "      <td>Yes</td>\n",
       "      <td>No</td>\n",
       "      <td>No</td>\n",
       "    </tr>\n",
       "    <tr>\n",
       "      <th>495</th>\n",
       "      <td>-1.705919</td>\n",
       "      <td>-0.504136</td>\n",
       "      <td>-2.145957</td>\n",
       "      <td>Government Sector</td>\n",
       "      <td>Yes</td>\n",
       "      <td>No</td>\n",
       "      <td>Yes</td>\n",
       "    </tr>\n",
       "    <tr>\n",
       "      <th>496</th>\n",
       "      <td>-0.852656</td>\n",
       "      <td>0.319763</td>\n",
       "      <td>-1.167125</td>\n",
       "      <td>Government Sector</td>\n",
       "      <td>Yes</td>\n",
       "      <td>No</td>\n",
       "      <td>No</td>\n",
       "    </tr>\n",
       "  </tbody>\n",
       "</table>\n",
       "<p>497 rows × 7 columns</p>\n",
       "</div>"
      ],
      "text/plain": [
       "          Age  AnnualIncome  FamilyMembers               Employment Type  \\\n",
       "0   -0.109699      0.451578      -0.367616  Private Sector/Self Employed   \n",
       "1   -0.468785     -0.504136       0.312994  Private Sector/Self Employed   \n",
       "2    0.543228      1.463404      -0.367616             Government Sector   \n",
       "3   -0.468785      1.216789      -1.167125  Private Sector/Self Employed   \n",
       "4    1.121699      1.463404      -0.367616  Private Sector/Self Employed   \n",
       "..        ...           ...            ...                           ...   \n",
       "492  1.121699      2.064596       0.908380             Government Sector   \n",
       "493 -1.705919      0.582063      -1.167125  Private Sector/Self Employed   \n",
       "494 -0.109699      0.319763       0.312994  Private Sector/Self Employed   \n",
       "495 -1.705919     -0.504136      -2.145957             Government Sector   \n",
       "496 -0.852656      0.319763      -1.167125             Government Sector   \n",
       "\n",
       "    GraduateOrNot FrequentFlyer EverTravelledAbroad  \n",
       "0             Yes            No                  No  \n",
       "1             Yes           Yes                  No  \n",
       "2             Yes           Yes                 Yes  \n",
       "3             Yes            No                 Yes  \n",
       "4             Yes           Yes                 Yes  \n",
       "..            ...           ...                 ...  \n",
       "492           Yes            No                  No  \n",
       "493            No            No                  No  \n",
       "494           Yes            No                  No  \n",
       "495           Yes            No                 Yes  \n",
       "496           Yes            No                  No  \n",
       "\n",
       "[497 rows x 7 columns]"
      ]
     },
     "execution_count": 55,
     "metadata": {},
     "output_type": "execute_result"
    }
   ],
   "source": [
    "#Unión de las variables numéricas estandarizadas con las categóricas para test\n",
    "test_df_1 = pd.concat([test_df_numeric_norm,test_df_cat],axis=1)\n",
    "test_df_1"
   ]
  },
  {
   "cell_type": "code",
   "execution_count": 56,
   "metadata": {
    "executionInfo": {
     "elapsed": 13,
     "status": "ok",
     "timestamp": 1632328024207,
     "user": {
      "displayName": "Hugo Carignano",
      "photoUrl": "https://lh3.googleusercontent.com/a-/AOh14GghlBIEB1E06zcwUUK6G2hjSk8W8yEYXdTtbaJTLw=s64",
      "userId": "08546365168766205680"
     },
     "user_tz": 180
    },
    "id": "dwfSbWSE5kdY"
   },
   "outputs": [],
   "source": [
    "#Como el dataset contiene variables categóricas y numéricas se realizó un análisis de factores de datos mezclados (FAMD) utilizando el paquete PRINCE\n",
    "#Los factores obtenidos son utilizados como nuevas variables de entrenamiento\n",
    "famd = prince.FAMD(n_components=12, n_iter=3, copy=True, check_input=True, engine='auto',random_state=42)"
   ]
  },
  {
   "cell_type": "code",
   "execution_count": 57,
   "metadata": {
    "executionInfo": {
     "elapsed": 241,
     "status": "ok",
     "timestamp": 1632328026237,
     "user": {
      "displayName": "Hugo Carignano",
      "photoUrl": "https://lh3.googleusercontent.com/a-/AOh14GghlBIEB1E06zcwUUK6G2hjSk8W8yEYXdTtbaJTLw=s64",
      "userId": "08546365168766205680"
     },
     "user_tz": 180
    },
    "id": "c8lET3Cz5q10"
   },
   "outputs": [],
   "source": [
    "#Ajuste de FAMD en el dataset de train\n",
    "famd = famd.fit(train_df_1)"
   ]
  },
  {
   "cell_type": "code",
   "execution_count": 58,
   "metadata": {
    "executionInfo": {
     "elapsed": 7,
     "status": "ok",
     "timestamp": 1632328029003,
     "user": {
      "displayName": "Hugo Carignano",
      "photoUrl": "https://lh3.googleusercontent.com/a-/AOh14GghlBIEB1E06zcwUUK6G2hjSk8W8yEYXdTtbaJTLw=s64",
      "userId": "08546365168766205680"
     },
     "user_tz": 180
    },
    "id": "OnSwgIwT531I"
   },
   "outputs": [],
   "source": [
    "#Tranformación del dataset de test\n",
    "famd_2 = famd.transform(test_df_1)"
   ]
  },
  {
   "cell_type": "code",
   "execution_count": 59,
   "metadata": {
    "executionInfo": {
     "elapsed": 224,
     "status": "ok",
     "timestamp": 1632320924146,
     "user": {
      "displayName": "Hugo Carignano",
      "photoUrl": "https://lh3.googleusercontent.com/a-/AOh14GghlBIEB1E06zcwUUK6G2hjSk8W8yEYXdTtbaJTLw=s64",
      "userId": "08546365168766205680"
     },
     "user_tz": 180
    },
    "id": "6CGXkHSw6Jr1"
   },
   "outputs": [],
   "source": [
    "# Factores obtenidos para el dataset train\n",
    "factor_5 = famd.row_coordinates(train_df_1)"
   ]
  },
  {
   "cell_type": "code",
   "execution_count": 60,
   "metadata": {
    "colab": {
     "base_uri": "https://localhost:8080/",
     "height": 408
    },
    "executionInfo": {
     "elapsed": 298,
     "status": "ok",
     "timestamp": 1632328035012,
     "user": {
      "displayName": "Hugo Carignano",
      "photoUrl": "https://lh3.googleusercontent.com/a-/AOh14GghlBIEB1E06zcwUUK6G2hjSk8W8yEYXdTtbaJTLw=s64",
      "userId": "08546365168766205680"
     },
     "user_tz": 180
    },
    "id": "r7qk1itv6NRY",
    "outputId": "c0d128f3-add8-48b4-fc88-6ebad525444a"
   },
   "outputs": [
    {
     "data": {
      "text/html": [
       "<div>\n",
       "<style scoped>\n",
       "    .dataframe tbody tr th:only-of-type {\n",
       "        vertical-align: middle;\n",
       "    }\n",
       "\n",
       "    .dataframe tbody tr th {\n",
       "        vertical-align: top;\n",
       "    }\n",
       "\n",
       "    .dataframe thead th {\n",
       "        text-align: right;\n",
       "    }\n",
       "</style>\n",
       "<table border=\"1\" class=\"dataframe\">\n",
       "  <thead>\n",
       "    <tr style=\"text-align: right;\">\n",
       "      <th></th>\n",
       "      <th>0</th>\n",
       "      <th>1</th>\n",
       "      <th>2</th>\n",
       "      <th>3</th>\n",
       "      <th>4</th>\n",
       "      <th>5</th>\n",
       "      <th>6</th>\n",
       "      <th>7</th>\n",
       "      <th>8</th>\n",
       "      <th>9</th>\n",
       "      <th>10</th>\n",
       "    </tr>\n",
       "  </thead>\n",
       "  <tbody>\n",
       "    <tr>\n",
       "      <th>0</th>\n",
       "      <td>-0.977332</td>\n",
       "      <td>-0.969050</td>\n",
       "      <td>-0.745531</td>\n",
       "      <td>0.304180</td>\n",
       "      <td>-0.558069</td>\n",
       "      <td>-0.368812</td>\n",
       "      <td>-0.685288</td>\n",
       "      <td>-3.442333e-16</td>\n",
       "      <td>9.642068e-17</td>\n",
       "      <td>2.351821e-17</td>\n",
       "      <td>-3.985877e-16</td>\n",
       "    </tr>\n",
       "    <tr>\n",
       "      <th>1</th>\n",
       "      <td>0.361813</td>\n",
       "      <td>0.448458</td>\n",
       "      <td>-1.326456</td>\n",
       "      <td>-0.036061</td>\n",
       "      <td>0.784060</td>\n",
       "      <td>-1.239212</td>\n",
       "      <td>-0.547180</td>\n",
       "      <td>-1.979400e-16</td>\n",
       "      <td>-1.828243e-16</td>\n",
       "      <td>3.171165e-16</td>\n",
       "      <td>-2.276800e-16</td>\n",
       "    </tr>\n",
       "    <tr>\n",
       "      <th>2</th>\n",
       "      <td>0.485779</td>\n",
       "      <td>-0.500909</td>\n",
       "      <td>0.372909</td>\n",
       "      <td>0.023268</td>\n",
       "      <td>-0.912817</td>\n",
       "      <td>-0.338461</td>\n",
       "      <td>0.411090</td>\n",
       "      <td>-1.641985e-16</td>\n",
       "      <td>-3.836089e-16</td>\n",
       "      <td>-7.222073e-17</td>\n",
       "      <td>-2.186182e-16</td>\n",
       "    </tr>\n",
       "    <tr>\n",
       "      <th>3</th>\n",
       "      <td>-2.219570</td>\n",
       "      <td>-0.244844</td>\n",
       "      <td>-1.153316</td>\n",
       "      <td>1.232660</td>\n",
       "      <td>1.146091</td>\n",
       "      <td>0.845540</td>\n",
       "      <td>0.300926</td>\n",
       "      <td>2.702403e-16</td>\n",
       "      <td>9.821242e-16</td>\n",
       "      <td>1.838169e-16</td>\n",
       "      <td>-1.618690e-16</td>\n",
       "    </tr>\n",
       "    <tr>\n",
       "      <th>4</th>\n",
       "      <td>0.621268</td>\n",
       "      <td>0.561236</td>\n",
       "      <td>1.057044</td>\n",
       "      <td>-0.169632</td>\n",
       "      <td>-0.882331</td>\n",
       "      <td>-0.287563</td>\n",
       "      <td>0.426915</td>\n",
       "      <td>-1.946962e-17</td>\n",
       "      <td>-4.842669e-16</td>\n",
       "      <td>-1.111012e-16</td>\n",
       "      <td>-2.432310e-16</td>\n",
       "    </tr>\n",
       "    <tr>\n",
       "      <th>...</th>\n",
       "      <td>...</td>\n",
       "      <td>...</td>\n",
       "      <td>...</td>\n",
       "      <td>...</td>\n",
       "      <td>...</td>\n",
       "      <td>...</td>\n",
       "      <td>...</td>\n",
       "      <td>...</td>\n",
       "      <td>...</td>\n",
       "      <td>...</td>\n",
       "      <td>...</td>\n",
       "    </tr>\n",
       "    <tr>\n",
       "      <th>1485</th>\n",
       "      <td>-2.195191</td>\n",
       "      <td>-0.174027</td>\n",
       "      <td>-0.136964</td>\n",
       "      <td>1.229241</td>\n",
       "      <td>1.115008</td>\n",
       "      <td>0.829558</td>\n",
       "      <td>0.283201</td>\n",
       "      <td>2.631635e-16</td>\n",
       "      <td>9.547018e-16</td>\n",
       "      <td>1.345008e-16</td>\n",
       "      <td>-1.707149e-16</td>\n",
       "    </tr>\n",
       "    <tr>\n",
       "      <th>1486</th>\n",
       "      <td>0.594222</td>\n",
       "      <td>-0.437583</td>\n",
       "      <td>1.142395</td>\n",
       "      <td>0.110826</td>\n",
       "      <td>0.582153</td>\n",
       "      <td>-1.337156</td>\n",
       "      <td>-0.382813</td>\n",
       "      <td>-3.431741e-16</td>\n",
       "      <td>-2.531544e-16</td>\n",
       "      <td>1.948486e-16</td>\n",
       "      <td>-1.876007e-16</td>\n",
       "    </tr>\n",
       "    <tr>\n",
       "      <th>1487</th>\n",
       "      <td>0.588069</td>\n",
       "      <td>0.464798</td>\n",
       "      <td>-0.327015</td>\n",
       "      <td>-0.164975</td>\n",
       "      <td>-0.840002</td>\n",
       "      <td>-0.265800</td>\n",
       "      <td>0.451053</td>\n",
       "      <td>-9.832569e-18</td>\n",
       "      <td>-4.469233e-16</td>\n",
       "      <td>-4.394300e-17</td>\n",
       "      <td>-2.311847e-16</td>\n",
       "    </tr>\n",
       "    <tr>\n",
       "      <th>1488</th>\n",
       "      <td>-0.033793</td>\n",
       "      <td>-0.739837</td>\n",
       "      <td>-0.182615</td>\n",
       "      <td>-0.787075</td>\n",
       "      <td>-0.039592</td>\n",
       "      <td>0.217093</td>\n",
       "      <td>1.343698</td>\n",
       "      <td>-2.539543e-16</td>\n",
       "      <td>2.777629e-16</td>\n",
       "      <td>1.442766e-16</td>\n",
       "      <td>2.347157e-16</td>\n",
       "    </tr>\n",
       "    <tr>\n",
       "      <th>1489</th>\n",
       "      <td>-0.707780</td>\n",
       "      <td>0.244311</td>\n",
       "      <td>0.389148</td>\n",
       "      <td>1.866730</td>\n",
       "      <td>0.020043</td>\n",
       "      <td>0.301997</td>\n",
       "      <td>0.108978</td>\n",
       "      <td>4.351627e-16</td>\n",
       "      <td>-5.496432e-18</td>\n",
       "      <td>-1.083470e-16</td>\n",
       "      <td>-4.930081e-16</td>\n",
       "    </tr>\n",
       "  </tbody>\n",
       "</table>\n",
       "<p>1490 rows × 11 columns</p>\n",
       "</div>"
      ],
      "text/plain": [
       "            0         1         2         3         4         5         6   \\\n",
       "0    -0.977332 -0.969050 -0.745531  0.304180 -0.558069 -0.368812 -0.685288   \n",
       "1     0.361813  0.448458 -1.326456 -0.036061  0.784060 -1.239212 -0.547180   \n",
       "2     0.485779 -0.500909  0.372909  0.023268 -0.912817 -0.338461  0.411090   \n",
       "3    -2.219570 -0.244844 -1.153316  1.232660  1.146091  0.845540  0.300926   \n",
       "4     0.621268  0.561236  1.057044 -0.169632 -0.882331 -0.287563  0.426915   \n",
       "...        ...       ...       ...       ...       ...       ...       ...   \n",
       "1485 -2.195191 -0.174027 -0.136964  1.229241  1.115008  0.829558  0.283201   \n",
       "1486  0.594222 -0.437583  1.142395  0.110826  0.582153 -1.337156 -0.382813   \n",
       "1487  0.588069  0.464798 -0.327015 -0.164975 -0.840002 -0.265800  0.451053   \n",
       "1488 -0.033793 -0.739837 -0.182615 -0.787075 -0.039592  0.217093  1.343698   \n",
       "1489 -0.707780  0.244311  0.389148  1.866730  0.020043  0.301997  0.108978   \n",
       "\n",
       "                7             8             9             10  \n",
       "0    -3.442333e-16  9.642068e-17  2.351821e-17 -3.985877e-16  \n",
       "1    -1.979400e-16 -1.828243e-16  3.171165e-16 -2.276800e-16  \n",
       "2    -1.641985e-16 -3.836089e-16 -7.222073e-17 -2.186182e-16  \n",
       "3     2.702403e-16  9.821242e-16  1.838169e-16 -1.618690e-16  \n",
       "4    -1.946962e-17 -4.842669e-16 -1.111012e-16 -2.432310e-16  \n",
       "...            ...           ...           ...           ...  \n",
       "1485  2.631635e-16  9.547018e-16  1.345008e-16 -1.707149e-16  \n",
       "1486 -3.431741e-16 -2.531544e-16  1.948486e-16 -1.876007e-16  \n",
       "1487 -9.832569e-18 -4.469233e-16 -4.394300e-17 -2.311847e-16  \n",
       "1488 -2.539543e-16  2.777629e-16  1.442766e-16  2.347157e-16  \n",
       "1489  4.351627e-16 -5.496432e-18 -1.083470e-16 -4.930081e-16  \n",
       "\n",
       "[1490 rows x 11 columns]"
      ]
     },
     "execution_count": 60,
     "metadata": {},
     "output_type": "execute_result"
    }
   ],
   "source": [
    "factor_5"
   ]
  },
  {
   "cell_type": "code",
   "execution_count": 61,
   "metadata": {
    "colab": {
     "base_uri": "https://localhost:8080/",
     "height": 408
    },
    "executionInfo": {
     "elapsed": 285,
     "status": "ok",
     "timestamp": 1632328041458,
     "user": {
      "displayName": "Hugo Carignano",
      "photoUrl": "https://lh3.googleusercontent.com/a-/AOh14GghlBIEB1E06zcwUUK6G2hjSk8W8yEYXdTtbaJTLw=s64",
      "userId": "08546365168766205680"
     },
     "user_tz": 180
    },
    "id": "8XAMQQ1e6gak",
    "outputId": "6701d79c-7353-4644-d232-d9caed0dddb4"
   },
   "outputs": [
    {
     "data": {
      "text/html": [
       "<div>\n",
       "<style scoped>\n",
       "    .dataframe tbody tr th:only-of-type {\n",
       "        vertical-align: middle;\n",
       "    }\n",
       "\n",
       "    .dataframe tbody tr th {\n",
       "        vertical-align: top;\n",
       "    }\n",
       "\n",
       "    .dataframe thead th {\n",
       "        text-align: right;\n",
       "    }\n",
       "</style>\n",
       "<table border=\"1\" class=\"dataframe\">\n",
       "  <thead>\n",
       "    <tr style=\"text-align: right;\">\n",
       "      <th></th>\n",
       "      <th>0</th>\n",
       "      <th>1</th>\n",
       "      <th>2</th>\n",
       "      <th>3</th>\n",
       "      <th>4</th>\n",
       "      <th>5</th>\n",
       "      <th>6</th>\n",
       "      <th>7</th>\n",
       "      <th>8</th>\n",
       "      <th>9</th>\n",
       "      <th>10</th>\n",
       "    </tr>\n",
       "  </thead>\n",
       "  <tbody>\n",
       "    <tr>\n",
       "      <th>0</th>\n",
       "      <td>0.256798</td>\n",
       "      <td>0.146696</td>\n",
       "      <td>0.321566</td>\n",
       "      <td>-0.062020</td>\n",
       "      <td>-0.779571</td>\n",
       "      <td>-0.296628</td>\n",
       "      <td>0.188137</td>\n",
       "      <td>-0.002305</td>\n",
       "      <td>-0.003612</td>\n",
       "      <td>0.001882</td>\n",
       "      <td>-0.003317</td>\n",
       "    </tr>\n",
       "    <tr>\n",
       "      <th>1</th>\n",
       "      <td>0.213012</td>\n",
       "      <td>0.478306</td>\n",
       "      <td>-0.354436</td>\n",
       "      <td>-0.013409</td>\n",
       "      <td>0.846076</td>\n",
       "      <td>-1.271206</td>\n",
       "      <td>-0.714028</td>\n",
       "      <td>0.012279</td>\n",
       "      <td>0.001241</td>\n",
       "      <td>-0.000119</td>\n",
       "      <td>-0.005104</td>\n",
       "    </tr>\n",
       "    <tr>\n",
       "      <th>2</th>\n",
       "      <td>1.783839</td>\n",
       "      <td>-1.059041</td>\n",
       "      <td>0.456770</td>\n",
       "      <td>-1.045977</td>\n",
       "      <td>1.657275</td>\n",
       "      <td>0.607708</td>\n",
       "      <td>0.324851</td>\n",
       "      <td>0.011125</td>\n",
       "      <td>0.009450</td>\n",
       "      <td>-0.003953</td>\n",
       "      <td>0.012074</td>\n",
       "    </tr>\n",
       "    <tr>\n",
       "      <th>3</th>\n",
       "      <td>1.686436</td>\n",
       "      <td>0.247223</td>\n",
       "      <td>1.089116</td>\n",
       "      <td>-0.420338</td>\n",
       "      <td>-0.561257</td>\n",
       "      <td>1.101480</td>\n",
       "      <td>-0.322472</td>\n",
       "      <td>0.000377</td>\n",
       "      <td>-0.008450</td>\n",
       "      <td>0.000245</td>\n",
       "      <td>0.007262</td>\n",
       "    </tr>\n",
       "    <tr>\n",
       "      <th>4</th>\n",
       "      <td>2.318189</td>\n",
       "      <td>-1.427316</td>\n",
       "      <td>0.420048</td>\n",
       "      <td>-0.128279</td>\n",
       "      <td>0.739548</td>\n",
       "      <td>0.020708</td>\n",
       "      <td>-0.555633</td>\n",
       "      <td>0.014960</td>\n",
       "      <td>-0.003596</td>\n",
       "      <td>-0.001756</td>\n",
       "      <td>0.005475</td>\n",
       "    </tr>\n",
       "    <tr>\n",
       "      <th>...</th>\n",
       "      <td>...</td>\n",
       "      <td>...</td>\n",
       "      <td>...</td>\n",
       "      <td>...</td>\n",
       "      <td>...</td>\n",
       "      <td>...</td>\n",
       "      <td>...</td>\n",
       "      <td>...</td>\n",
       "      <td>...</td>\n",
       "      <td>...</td>\n",
       "      <td>...</td>\n",
       "    </tr>\n",
       "    <tr>\n",
       "      <th>492</th>\n",
       "      <td>0.692007</td>\n",
       "      <td>-1.482522</td>\n",
       "      <td>-0.782357</td>\n",
       "      <td>-0.794673</td>\n",
       "      <td>-0.223249</td>\n",
       "      <td>0.213029</td>\n",
       "      <td>2.007375</td>\n",
       "      <td>-0.006140</td>\n",
       "      <td>0.009435</td>\n",
       "      <td>-0.000315</td>\n",
       "      <td>0.003282</td>\n",
       "    </tr>\n",
       "    <tr>\n",
       "      <th>493</th>\n",
       "      <td>0.464434</td>\n",
       "      <td>1.969386</td>\n",
       "      <td>1.028823</td>\n",
       "      <td>1.409976</td>\n",
       "      <td>-0.121910</td>\n",
       "      <td>0.420811</td>\n",
       "      <td>0.910341</td>\n",
       "      <td>-0.002774</td>\n",
       "      <td>-0.004057</td>\n",
       "      <td>-0.002005</td>\n",
       "      <td>-0.004003</td>\n",
       "    </tr>\n",
       "    <tr>\n",
       "      <th>494</th>\n",
       "      <td>0.142641</td>\n",
       "      <td>0.114832</td>\n",
       "      <td>-0.345825</td>\n",
       "      <td>-0.047885</td>\n",
       "      <td>-0.733976</td>\n",
       "      <td>-0.286984</td>\n",
       "      <td>0.120799</td>\n",
       "      <td>-0.002305</td>\n",
       "      <td>-0.003612</td>\n",
       "      <td>0.001882</td>\n",
       "      <td>-0.003317</td>\n",
       "    </tr>\n",
       "    <tr>\n",
       "      <th>495</th>\n",
       "      <td>-0.032784</td>\n",
       "      <td>1.504001</td>\n",
       "      <td>2.052424</td>\n",
       "      <td>-1.304824</td>\n",
       "      <td>0.688989</td>\n",
       "      <td>1.701273</td>\n",
       "      <td>-0.471922</td>\n",
       "      <td>-0.003458</td>\n",
       "      <td>0.004597</td>\n",
       "      <td>-0.001952</td>\n",
       "      <td>0.013861</td>\n",
       "    </tr>\n",
       "    <tr>\n",
       "      <th>496</th>\n",
       "      <td>-0.338570</td>\n",
       "      <td>0.741617</td>\n",
       "      <td>1.132886</td>\n",
       "      <td>-1.000127</td>\n",
       "      <td>0.147659</td>\n",
       "      <td>0.286947</td>\n",
       "      <td>0.980459</td>\n",
       "      <td>-0.006140</td>\n",
       "      <td>0.009435</td>\n",
       "      <td>-0.000315</td>\n",
       "      <td>0.003282</td>\n",
       "    </tr>\n",
       "  </tbody>\n",
       "</table>\n",
       "<p>497 rows × 11 columns</p>\n",
       "</div>"
      ],
      "text/plain": [
       "           0         1         2         3         4         5         6   \\\n",
       "0    0.256798  0.146696  0.321566 -0.062020 -0.779571 -0.296628  0.188137   \n",
       "1    0.213012  0.478306 -0.354436 -0.013409  0.846076 -1.271206 -0.714028   \n",
       "2    1.783839 -1.059041  0.456770 -1.045977  1.657275  0.607708  0.324851   \n",
       "3    1.686436  0.247223  1.089116 -0.420338 -0.561257  1.101480 -0.322472   \n",
       "4    2.318189 -1.427316  0.420048 -0.128279  0.739548  0.020708 -0.555633   \n",
       "..        ...       ...       ...       ...       ...       ...       ...   \n",
       "492  0.692007 -1.482522 -0.782357 -0.794673 -0.223249  0.213029  2.007375   \n",
       "493  0.464434  1.969386  1.028823  1.409976 -0.121910  0.420811  0.910341   \n",
       "494  0.142641  0.114832 -0.345825 -0.047885 -0.733976 -0.286984  0.120799   \n",
       "495 -0.032784  1.504001  2.052424 -1.304824  0.688989  1.701273 -0.471922   \n",
       "496 -0.338570  0.741617  1.132886 -1.000127  0.147659  0.286947  0.980459   \n",
       "\n",
       "           7         8         9         10  \n",
       "0   -0.002305 -0.003612  0.001882 -0.003317  \n",
       "1    0.012279  0.001241 -0.000119 -0.005104  \n",
       "2    0.011125  0.009450 -0.003953  0.012074  \n",
       "3    0.000377 -0.008450  0.000245  0.007262  \n",
       "4    0.014960 -0.003596 -0.001756  0.005475  \n",
       "..        ...       ...       ...       ...  \n",
       "492 -0.006140  0.009435 -0.000315  0.003282  \n",
       "493 -0.002774 -0.004057 -0.002005 -0.004003  \n",
       "494 -0.002305 -0.003612  0.001882 -0.003317  \n",
       "495 -0.003458  0.004597 -0.001952  0.013861  \n",
       "496 -0.006140  0.009435 -0.000315  0.003282  \n",
       "\n",
       "[497 rows x 11 columns]"
      ]
     },
     "execution_count": 61,
     "metadata": {},
     "output_type": "execute_result"
    }
   ],
   "source": [
    "#Factores obtenidos en el dataset test\n",
    "famd_2"
   ]
  },
  {
   "cell_type": "code",
   "execution_count": 62,
   "metadata": {
    "colab": {
     "base_uri": "https://localhost:8080/",
     "height": 721
    },
    "executionInfo": {
     "elapsed": 30,
     "status": "ok",
     "timestamp": 1632328047203,
     "user": {
      "displayName": "Hugo Carignano",
      "photoUrl": "https://lh3.googleusercontent.com/a-/AOh14GghlBIEB1E06zcwUUK6G2hjSk8W8yEYXdTtbaJTLw=s64",
      "userId": "08546365168766205680"
     },
     "user_tz": 180
    },
    "id": "jTC98wm36uF-",
    "outputId": "1db45d88-3b52-4ae2-8d81-4f14ec376d61"
   },
   "outputs": [
    {
     "data": {
      "text/html": [
       "<div>\n",
       "<style scoped>\n",
       "    .dataframe tbody tr th:only-of-type {\n",
       "        vertical-align: middle;\n",
       "    }\n",
       "\n",
       "    .dataframe tbody tr th {\n",
       "        vertical-align: top;\n",
       "    }\n",
       "\n",
       "    .dataframe thead th {\n",
       "        text-align: right;\n",
       "    }\n",
       "</style>\n",
       "<table border=\"1\" class=\"dataframe\">\n",
       "  <thead>\n",
       "    <tr style=\"text-align: right;\">\n",
       "      <th></th>\n",
       "      <th>Age</th>\n",
       "      <th>AnnualIncome</th>\n",
       "      <th>FamilyMembers</th>\n",
       "      <th>Employment Type</th>\n",
       "      <th>GraduateOrNot</th>\n",
       "      <th>FrequentFlyer</th>\n",
       "      <th>EverTravelledAbroad</th>\n",
       "      <th>0</th>\n",
       "      <th>1</th>\n",
       "      <th>2</th>\n",
       "      <th>3</th>\n",
       "      <th>4</th>\n",
       "      <th>5</th>\n",
       "      <th>6</th>\n",
       "      <th>7</th>\n",
       "      <th>8</th>\n",
       "      <th>9</th>\n",
       "      <th>10</th>\n",
       "    </tr>\n",
       "  </thead>\n",
       "  <tbody>\n",
       "    <tr>\n",
       "      <th>0</th>\n",
       "      <td>1.143045</td>\n",
       "      <td>-0.978311</td>\n",
       "      <td>0.812057</td>\n",
       "      <td>Private Sector/Self Employed</td>\n",
       "      <td>Yes</td>\n",
       "      <td>No</td>\n",
       "      <td>No</td>\n",
       "      <td>-0.977332</td>\n",
       "      <td>-0.969050</td>\n",
       "      <td>-0.745531</td>\n",
       "      <td>0.304180</td>\n",
       "      <td>-0.558069</td>\n",
       "      <td>-0.368812</td>\n",
       "      <td>-0.685288</td>\n",
       "      <td>-3.442333e-16</td>\n",
       "      <td>9.642068e-17</td>\n",
       "      <td>2.351821e-17</td>\n",
       "      <td>-3.985877e-16</td>\n",
       "    </tr>\n",
       "    <tr>\n",
       "      <th>1</th>\n",
       "      <td>-0.531112</td>\n",
       "      <td>-0.263304</td>\n",
       "      <td>1.296295</td>\n",
       "      <td>Private Sector/Self Employed</td>\n",
       "      <td>Yes</td>\n",
       "      <td>Yes</td>\n",
       "      <td>No</td>\n",
       "      <td>0.361813</td>\n",
       "      <td>0.448458</td>\n",
       "      <td>-1.326456</td>\n",
       "      <td>-0.036061</td>\n",
       "      <td>0.784060</td>\n",
       "      <td>-1.239212</td>\n",
       "      <td>-0.547180</td>\n",
       "      <td>-1.979400e-16</td>\n",
       "      <td>-1.828243e-16</td>\n",
       "      <td>3.171165e-16</td>\n",
       "      <td>-2.276800e-16</td>\n",
       "    </tr>\n",
       "    <tr>\n",
       "      <th>2</th>\n",
       "      <td>0.524773</td>\n",
       "      <td>0.857013</td>\n",
       "      <td>-0.380029</td>\n",
       "      <td>Private Sector/Self Employed</td>\n",
       "      <td>Yes</td>\n",
       "      <td>No</td>\n",
       "      <td>No</td>\n",
       "      <td>0.485779</td>\n",
       "      <td>-0.500909</td>\n",
       "      <td>0.372909</td>\n",
       "      <td>0.023268</td>\n",
       "      <td>-0.912817</td>\n",
       "      <td>-0.338461</td>\n",
       "      <td>0.411090</td>\n",
       "      <td>-1.641985e-16</td>\n",
       "      <td>-3.836089e-16</td>\n",
       "      <td>-7.222073e-17</td>\n",
       "      <td>-2.186182e-16</td>\n",
       "    </tr>\n",
       "    <tr>\n",
       "      <th>3</th>\n",
       "      <td>0.524773</td>\n",
       "      <td>-1.816419</td>\n",
       "      <td>1.296295</td>\n",
       "      <td>Government Sector</td>\n",
       "      <td>No</td>\n",
       "      <td>No</td>\n",
       "      <td>No</td>\n",
       "      <td>-2.219570</td>\n",
       "      <td>-0.244844</td>\n",
       "      <td>-1.153316</td>\n",
       "      <td>1.232660</td>\n",
       "      <td>1.146091</td>\n",
       "      <td>0.845540</td>\n",
       "      <td>0.300926</td>\n",
       "      <td>2.702403e-16</td>\n",
       "      <td>9.821242e-16</td>\n",
       "      <td>1.838169e-16</td>\n",
       "      <td>-1.618690e-16</td>\n",
       "    </tr>\n",
       "    <tr>\n",
       "      <th>4</th>\n",
       "      <td>-0.531112</td>\n",
       "      <td>0.857013</td>\n",
       "      <td>-1.148922</td>\n",
       "      <td>Private Sector/Self Employed</td>\n",
       "      <td>Yes</td>\n",
       "      <td>No</td>\n",
       "      <td>No</td>\n",
       "      <td>0.621268</td>\n",
       "      <td>0.561236</td>\n",
       "      <td>1.057044</td>\n",
       "      <td>-0.169632</td>\n",
       "      <td>-0.882331</td>\n",
       "      <td>-0.287563</td>\n",
       "      <td>0.426915</td>\n",
       "      <td>-1.946962e-17</td>\n",
       "      <td>-4.842669e-16</td>\n",
       "      <td>-1.111012e-16</td>\n",
       "      <td>-2.432310e-16</td>\n",
       "    </tr>\n",
       "    <tr>\n",
       "      <th>...</th>\n",
       "      <td>...</td>\n",
       "      <td>...</td>\n",
       "      <td>...</td>\n",
       "      <td>...</td>\n",
       "      <td>...</td>\n",
       "      <td>...</td>\n",
       "      <td>...</td>\n",
       "      <td>...</td>\n",
       "      <td>...</td>\n",
       "      <td>...</td>\n",
       "      <td>...</td>\n",
       "      <td>...</td>\n",
       "      <td>...</td>\n",
       "      <td>...</td>\n",
       "      <td>...</td>\n",
       "      <td>...</td>\n",
       "      <td>...</td>\n",
       "      <td>...</td>\n",
       "    </tr>\n",
       "    <tr>\n",
       "      <th>1485</th>\n",
       "      <td>0.524773</td>\n",
       "      <td>-1.816419</td>\n",
       "      <td>0.260972</td>\n",
       "      <td>Government Sector</td>\n",
       "      <td>No</td>\n",
       "      <td>No</td>\n",
       "      <td>No</td>\n",
       "      <td>-2.195191</td>\n",
       "      <td>-0.174027</td>\n",
       "      <td>-0.136964</td>\n",
       "      <td>1.229241</td>\n",
       "      <td>1.115008</td>\n",
       "      <td>0.829558</td>\n",
       "      <td>0.283201</td>\n",
       "      <td>2.631635e-16</td>\n",
       "      <td>9.547018e-16</td>\n",
       "      <td>1.345008e-16</td>\n",
       "      <td>-1.707149e-16</td>\n",
       "    </tr>\n",
       "    <tr>\n",
       "      <th>1486</th>\n",
       "      <td>0.524773</td>\n",
       "      <td>0.129219</td>\n",
       "      <td>-1.148922</td>\n",
       "      <td>Private Sector/Self Employed</td>\n",
       "      <td>Yes</td>\n",
       "      <td>Yes</td>\n",
       "      <td>No</td>\n",
       "      <td>0.594222</td>\n",
       "      <td>-0.437583</td>\n",
       "      <td>1.142395</td>\n",
       "      <td>0.110826</td>\n",
       "      <td>0.582153</td>\n",
       "      <td>-1.337156</td>\n",
       "      <td>-0.382813</td>\n",
       "      <td>-3.431741e-16</td>\n",
       "      <td>-2.531544e-16</td>\n",
       "      <td>1.948486e-16</td>\n",
       "      <td>-1.876007e-16</td>\n",
       "    </tr>\n",
       "    <tr>\n",
       "      <th>1487</th>\n",
       "      <td>-0.531112</td>\n",
       "      <td>0.857013</td>\n",
       "      <td>0.260972</td>\n",
       "      <td>Private Sector/Self Employed</td>\n",
       "      <td>Yes</td>\n",
       "      <td>No</td>\n",
       "      <td>No</td>\n",
       "      <td>0.588069</td>\n",
       "      <td>0.464798</td>\n",
       "      <td>-0.327015</td>\n",
       "      <td>-0.164975</td>\n",
       "      <td>-0.840002</td>\n",
       "      <td>-0.265800</td>\n",
       "      <td>0.451053</td>\n",
       "      <td>-9.832569e-18</td>\n",
       "      <td>-4.469233e-16</td>\n",
       "      <td>-4.394300e-17</td>\n",
       "      <td>-2.311847e-16</td>\n",
       "    </tr>\n",
       "    <tr>\n",
       "      <th>1488</th>\n",
       "      <td>0.524773</td>\n",
       "      <td>0.972308</td>\n",
       "      <td>0.260972</td>\n",
       "      <td>Government Sector</td>\n",
       "      <td>Yes</td>\n",
       "      <td>No</td>\n",
       "      <td>No</td>\n",
       "      <td>-0.033793</td>\n",
       "      <td>-0.739837</td>\n",
       "      <td>-0.182615</td>\n",
       "      <td>-0.787075</td>\n",
       "      <td>-0.039592</td>\n",
       "      <td>0.217093</td>\n",
       "      <td>1.343698</td>\n",
       "      <td>-2.539543e-16</td>\n",
       "      <td>2.777629e-16</td>\n",
       "      <td>1.442766e-16</td>\n",
       "      <td>2.347157e-16</td>\n",
       "    </tr>\n",
       "    <tr>\n",
       "      <th>1489</th>\n",
       "      <td>0.191394</td>\n",
       "      <td>-0.681426</td>\n",
       "      <td>-0.380029</td>\n",
       "      <td>Private Sector/Self Employed</td>\n",
       "      <td>No</td>\n",
       "      <td>No</td>\n",
       "      <td>No</td>\n",
       "      <td>-0.707780</td>\n",
       "      <td>0.244311</td>\n",
       "      <td>0.389148</td>\n",
       "      <td>1.866730</td>\n",
       "      <td>0.020043</td>\n",
       "      <td>0.301997</td>\n",
       "      <td>0.108978</td>\n",
       "      <td>4.351627e-16</td>\n",
       "      <td>-5.496432e-18</td>\n",
       "      <td>-1.083470e-16</td>\n",
       "      <td>-4.930081e-16</td>\n",
       "    </tr>\n",
       "  </tbody>\n",
       "</table>\n",
       "<p>1490 rows × 18 columns</p>\n",
       "</div>"
      ],
      "text/plain": [
       "           Age  AnnualIncome  FamilyMembers               Employment Type  \\\n",
       "0     1.143045     -0.978311       0.812057  Private Sector/Self Employed   \n",
       "1    -0.531112     -0.263304       1.296295  Private Sector/Self Employed   \n",
       "2     0.524773      0.857013      -0.380029  Private Sector/Self Employed   \n",
       "3     0.524773     -1.816419       1.296295             Government Sector   \n",
       "4    -0.531112      0.857013      -1.148922  Private Sector/Self Employed   \n",
       "...        ...           ...            ...                           ...   \n",
       "1485  0.524773     -1.816419       0.260972             Government Sector   \n",
       "1486  0.524773      0.129219      -1.148922  Private Sector/Self Employed   \n",
       "1487 -0.531112      0.857013       0.260972  Private Sector/Self Employed   \n",
       "1488  0.524773      0.972308       0.260972             Government Sector   \n",
       "1489  0.191394     -0.681426      -0.380029  Private Sector/Self Employed   \n",
       "\n",
       "     GraduateOrNot FrequentFlyer EverTravelledAbroad         0         1  \\\n",
       "0              Yes            No                  No -0.977332 -0.969050   \n",
       "1              Yes           Yes                  No  0.361813  0.448458   \n",
       "2              Yes            No                  No  0.485779 -0.500909   \n",
       "3               No            No                  No -2.219570 -0.244844   \n",
       "4              Yes            No                  No  0.621268  0.561236   \n",
       "...            ...           ...                 ...       ...       ...   \n",
       "1485            No            No                  No -2.195191 -0.174027   \n",
       "1486           Yes           Yes                  No  0.594222 -0.437583   \n",
       "1487           Yes            No                  No  0.588069  0.464798   \n",
       "1488           Yes            No                  No -0.033793 -0.739837   \n",
       "1489            No            No                  No -0.707780  0.244311   \n",
       "\n",
       "             2         3         4         5         6             7  \\\n",
       "0    -0.745531  0.304180 -0.558069 -0.368812 -0.685288 -3.442333e-16   \n",
       "1    -1.326456 -0.036061  0.784060 -1.239212 -0.547180 -1.979400e-16   \n",
       "2     0.372909  0.023268 -0.912817 -0.338461  0.411090 -1.641985e-16   \n",
       "3    -1.153316  1.232660  1.146091  0.845540  0.300926  2.702403e-16   \n",
       "4     1.057044 -0.169632 -0.882331 -0.287563  0.426915 -1.946962e-17   \n",
       "...        ...       ...       ...       ...       ...           ...   \n",
       "1485 -0.136964  1.229241  1.115008  0.829558  0.283201  2.631635e-16   \n",
       "1486  1.142395  0.110826  0.582153 -1.337156 -0.382813 -3.431741e-16   \n",
       "1487 -0.327015 -0.164975 -0.840002 -0.265800  0.451053 -9.832569e-18   \n",
       "1488 -0.182615 -0.787075 -0.039592  0.217093  1.343698 -2.539543e-16   \n",
       "1489  0.389148  1.866730  0.020043  0.301997  0.108978  4.351627e-16   \n",
       "\n",
       "                 8             9            10  \n",
       "0     9.642068e-17  2.351821e-17 -3.985877e-16  \n",
       "1    -1.828243e-16  3.171165e-16 -2.276800e-16  \n",
       "2    -3.836089e-16 -7.222073e-17 -2.186182e-16  \n",
       "3     9.821242e-16  1.838169e-16 -1.618690e-16  \n",
       "4    -4.842669e-16 -1.111012e-16 -2.432310e-16  \n",
       "...            ...           ...           ...  \n",
       "1485  9.547018e-16  1.345008e-16 -1.707149e-16  \n",
       "1486 -2.531544e-16  1.948486e-16 -1.876007e-16  \n",
       "1487 -4.469233e-16 -4.394300e-17 -2.311847e-16  \n",
       "1488  2.777629e-16  1.442766e-16  2.347157e-16  \n",
       "1489 -5.496432e-18 -1.083470e-16 -4.930081e-16  \n",
       "\n",
       "[1490 rows x 18 columns]"
      ]
     },
     "execution_count": 62,
     "metadata": {},
     "output_type": "execute_result"
    }
   ],
   "source": [
    "#Se agregan los factores resultantes a las variables del dataset train\n",
    "train_df_2 = pd.concat([train_df_1,factor_5],axis=1)\n",
    "train_df_2 "
   ]
  },
  {
   "cell_type": "code",
   "execution_count": 63,
   "metadata": {
    "colab": {
     "base_uri": "https://localhost:8080/",
     "height": 705
    },
    "executionInfo": {
     "elapsed": 259,
     "status": "ok",
     "timestamp": 1632328052118,
     "user": {
      "displayName": "Hugo Carignano",
      "photoUrl": "https://lh3.googleusercontent.com/a-/AOh14GghlBIEB1E06zcwUUK6G2hjSk8W8yEYXdTtbaJTLw=s64",
      "userId": "08546365168766205680"
     },
     "user_tz": 180
    },
    "id": "nZvHTenY6zr1",
    "outputId": "51a571dd-e091-424e-e974-e3d49965e6a0"
   },
   "outputs": [
    {
     "data": {
      "text/html": [
       "<div>\n",
       "<style scoped>\n",
       "    .dataframe tbody tr th:only-of-type {\n",
       "        vertical-align: middle;\n",
       "    }\n",
       "\n",
       "    .dataframe tbody tr th {\n",
       "        vertical-align: top;\n",
       "    }\n",
       "\n",
       "    .dataframe thead th {\n",
       "        text-align: right;\n",
       "    }\n",
       "</style>\n",
       "<table border=\"1\" class=\"dataframe\">\n",
       "  <thead>\n",
       "    <tr style=\"text-align: right;\">\n",
       "      <th></th>\n",
       "      <th>Age</th>\n",
       "      <th>AnnualIncome</th>\n",
       "      <th>FamilyMembers</th>\n",
       "      <th>Employment Type</th>\n",
       "      <th>GraduateOrNot</th>\n",
       "      <th>FrequentFlyer</th>\n",
       "      <th>EverTravelledAbroad</th>\n",
       "      <th>0</th>\n",
       "      <th>1</th>\n",
       "      <th>2</th>\n",
       "      <th>3</th>\n",
       "      <th>4</th>\n",
       "      <th>5</th>\n",
       "      <th>6</th>\n",
       "      <th>7</th>\n",
       "      <th>8</th>\n",
       "      <th>9</th>\n",
       "      <th>10</th>\n",
       "    </tr>\n",
       "  </thead>\n",
       "  <tbody>\n",
       "    <tr>\n",
       "      <th>0</th>\n",
       "      <td>-0.109699</td>\n",
       "      <td>0.451578</td>\n",
       "      <td>-0.367616</td>\n",
       "      <td>Private Sector/Self Employed</td>\n",
       "      <td>Yes</td>\n",
       "      <td>No</td>\n",
       "      <td>No</td>\n",
       "      <td>0.256798</td>\n",
       "      <td>0.146696</td>\n",
       "      <td>0.321566</td>\n",
       "      <td>-0.062020</td>\n",
       "      <td>-0.779571</td>\n",
       "      <td>-0.296628</td>\n",
       "      <td>0.188137</td>\n",
       "      <td>-0.002305</td>\n",
       "      <td>-0.003612</td>\n",
       "      <td>0.001882</td>\n",
       "      <td>-0.003317</td>\n",
       "    </tr>\n",
       "    <tr>\n",
       "      <th>1</th>\n",
       "      <td>-0.468785</td>\n",
       "      <td>-0.504136</td>\n",
       "      <td>0.312994</td>\n",
       "      <td>Private Sector/Self Employed</td>\n",
       "      <td>Yes</td>\n",
       "      <td>Yes</td>\n",
       "      <td>No</td>\n",
       "      <td>0.213012</td>\n",
       "      <td>0.478306</td>\n",
       "      <td>-0.354436</td>\n",
       "      <td>-0.013409</td>\n",
       "      <td>0.846076</td>\n",
       "      <td>-1.271206</td>\n",
       "      <td>-0.714028</td>\n",
       "      <td>0.012279</td>\n",
       "      <td>0.001241</td>\n",
       "      <td>-0.000119</td>\n",
       "      <td>-0.005104</td>\n",
       "    </tr>\n",
       "    <tr>\n",
       "      <th>2</th>\n",
       "      <td>0.543228</td>\n",
       "      <td>1.463404</td>\n",
       "      <td>-0.367616</td>\n",
       "      <td>Government Sector</td>\n",
       "      <td>Yes</td>\n",
       "      <td>Yes</td>\n",
       "      <td>Yes</td>\n",
       "      <td>1.783839</td>\n",
       "      <td>-1.059041</td>\n",
       "      <td>0.456770</td>\n",
       "      <td>-1.045977</td>\n",
       "      <td>1.657275</td>\n",
       "      <td>0.607708</td>\n",
       "      <td>0.324851</td>\n",
       "      <td>0.011125</td>\n",
       "      <td>0.009450</td>\n",
       "      <td>-0.003953</td>\n",
       "      <td>0.012074</td>\n",
       "    </tr>\n",
       "    <tr>\n",
       "      <th>3</th>\n",
       "      <td>-0.468785</td>\n",
       "      <td>1.216789</td>\n",
       "      <td>-1.167125</td>\n",
       "      <td>Private Sector/Self Employed</td>\n",
       "      <td>Yes</td>\n",
       "      <td>No</td>\n",
       "      <td>Yes</td>\n",
       "      <td>1.686436</td>\n",
       "      <td>0.247223</td>\n",
       "      <td>1.089116</td>\n",
       "      <td>-0.420338</td>\n",
       "      <td>-0.561257</td>\n",
       "      <td>1.101480</td>\n",
       "      <td>-0.322472</td>\n",
       "      <td>0.000377</td>\n",
       "      <td>-0.008450</td>\n",
       "      <td>0.000245</td>\n",
       "      <td>0.007262</td>\n",
       "    </tr>\n",
       "    <tr>\n",
       "      <th>4</th>\n",
       "      <td>1.121699</td>\n",
       "      <td>1.463404</td>\n",
       "      <td>-0.367616</td>\n",
       "      <td>Private Sector/Self Employed</td>\n",
       "      <td>Yes</td>\n",
       "      <td>Yes</td>\n",
       "      <td>Yes</td>\n",
       "      <td>2.318189</td>\n",
       "      <td>-1.427316</td>\n",
       "      <td>0.420048</td>\n",
       "      <td>-0.128279</td>\n",
       "      <td>0.739548</td>\n",
       "      <td>0.020708</td>\n",
       "      <td>-0.555633</td>\n",
       "      <td>0.014960</td>\n",
       "      <td>-0.003596</td>\n",
       "      <td>-0.001756</td>\n",
       "      <td>0.005475</td>\n",
       "    </tr>\n",
       "    <tr>\n",
       "      <th>...</th>\n",
       "      <td>...</td>\n",
       "      <td>...</td>\n",
       "      <td>...</td>\n",
       "      <td>...</td>\n",
       "      <td>...</td>\n",
       "      <td>...</td>\n",
       "      <td>...</td>\n",
       "      <td>...</td>\n",
       "      <td>...</td>\n",
       "      <td>...</td>\n",
       "      <td>...</td>\n",
       "      <td>...</td>\n",
       "      <td>...</td>\n",
       "      <td>...</td>\n",
       "      <td>...</td>\n",
       "      <td>...</td>\n",
       "      <td>...</td>\n",
       "      <td>...</td>\n",
       "    </tr>\n",
       "    <tr>\n",
       "      <th>492</th>\n",
       "      <td>1.121699</td>\n",
       "      <td>2.064596</td>\n",
       "      <td>0.908380</td>\n",
       "      <td>Government Sector</td>\n",
       "      <td>Yes</td>\n",
       "      <td>No</td>\n",
       "      <td>No</td>\n",
       "      <td>0.692007</td>\n",
       "      <td>-1.482522</td>\n",
       "      <td>-0.782357</td>\n",
       "      <td>-0.794673</td>\n",
       "      <td>-0.223249</td>\n",
       "      <td>0.213029</td>\n",
       "      <td>2.007375</td>\n",
       "      <td>-0.006140</td>\n",
       "      <td>0.009435</td>\n",
       "      <td>-0.000315</td>\n",
       "      <td>0.003282</td>\n",
       "    </tr>\n",
       "    <tr>\n",
       "      <th>493</th>\n",
       "      <td>-1.705919</td>\n",
       "      <td>0.582063</td>\n",
       "      <td>-1.167125</td>\n",
       "      <td>Private Sector/Self Employed</td>\n",
       "      <td>No</td>\n",
       "      <td>No</td>\n",
       "      <td>No</td>\n",
       "      <td>0.464434</td>\n",
       "      <td>1.969386</td>\n",
       "      <td>1.028823</td>\n",
       "      <td>1.409976</td>\n",
       "      <td>-0.121910</td>\n",
       "      <td>0.420811</td>\n",
       "      <td>0.910341</td>\n",
       "      <td>-0.002774</td>\n",
       "      <td>-0.004057</td>\n",
       "      <td>-0.002005</td>\n",
       "      <td>-0.004003</td>\n",
       "    </tr>\n",
       "    <tr>\n",
       "      <th>494</th>\n",
       "      <td>-0.109699</td>\n",
       "      <td>0.319763</td>\n",
       "      <td>0.312994</td>\n",
       "      <td>Private Sector/Self Employed</td>\n",
       "      <td>Yes</td>\n",
       "      <td>No</td>\n",
       "      <td>No</td>\n",
       "      <td>0.142641</td>\n",
       "      <td>0.114832</td>\n",
       "      <td>-0.345825</td>\n",
       "      <td>-0.047885</td>\n",
       "      <td>-0.733976</td>\n",
       "      <td>-0.286984</td>\n",
       "      <td>0.120799</td>\n",
       "      <td>-0.002305</td>\n",
       "      <td>-0.003612</td>\n",
       "      <td>0.001882</td>\n",
       "      <td>-0.003317</td>\n",
       "    </tr>\n",
       "    <tr>\n",
       "      <th>495</th>\n",
       "      <td>-1.705919</td>\n",
       "      <td>-0.504136</td>\n",
       "      <td>-2.145957</td>\n",
       "      <td>Government Sector</td>\n",
       "      <td>Yes</td>\n",
       "      <td>No</td>\n",
       "      <td>Yes</td>\n",
       "      <td>-0.032784</td>\n",
       "      <td>1.504001</td>\n",
       "      <td>2.052424</td>\n",
       "      <td>-1.304824</td>\n",
       "      <td>0.688989</td>\n",
       "      <td>1.701273</td>\n",
       "      <td>-0.471922</td>\n",
       "      <td>-0.003458</td>\n",
       "      <td>0.004597</td>\n",
       "      <td>-0.001952</td>\n",
       "      <td>0.013861</td>\n",
       "    </tr>\n",
       "    <tr>\n",
       "      <th>496</th>\n",
       "      <td>-0.852656</td>\n",
       "      <td>0.319763</td>\n",
       "      <td>-1.167125</td>\n",
       "      <td>Government Sector</td>\n",
       "      <td>Yes</td>\n",
       "      <td>No</td>\n",
       "      <td>No</td>\n",
       "      <td>-0.338570</td>\n",
       "      <td>0.741617</td>\n",
       "      <td>1.132886</td>\n",
       "      <td>-1.000127</td>\n",
       "      <td>0.147659</td>\n",
       "      <td>0.286947</td>\n",
       "      <td>0.980459</td>\n",
       "      <td>-0.006140</td>\n",
       "      <td>0.009435</td>\n",
       "      <td>-0.000315</td>\n",
       "      <td>0.003282</td>\n",
       "    </tr>\n",
       "  </tbody>\n",
       "</table>\n",
       "<p>497 rows × 18 columns</p>\n",
       "</div>"
      ],
      "text/plain": [
       "          Age  AnnualIncome  FamilyMembers               Employment Type  \\\n",
       "0   -0.109699      0.451578      -0.367616  Private Sector/Self Employed   \n",
       "1   -0.468785     -0.504136       0.312994  Private Sector/Self Employed   \n",
       "2    0.543228      1.463404      -0.367616             Government Sector   \n",
       "3   -0.468785      1.216789      -1.167125  Private Sector/Self Employed   \n",
       "4    1.121699      1.463404      -0.367616  Private Sector/Self Employed   \n",
       "..        ...           ...            ...                           ...   \n",
       "492  1.121699      2.064596       0.908380             Government Sector   \n",
       "493 -1.705919      0.582063      -1.167125  Private Sector/Self Employed   \n",
       "494 -0.109699      0.319763       0.312994  Private Sector/Self Employed   \n",
       "495 -1.705919     -0.504136      -2.145957             Government Sector   \n",
       "496 -0.852656      0.319763      -1.167125             Government Sector   \n",
       "\n",
       "    GraduateOrNot FrequentFlyer EverTravelledAbroad         0         1  \\\n",
       "0             Yes            No                  No  0.256798  0.146696   \n",
       "1             Yes           Yes                  No  0.213012  0.478306   \n",
       "2             Yes           Yes                 Yes  1.783839 -1.059041   \n",
       "3             Yes            No                 Yes  1.686436  0.247223   \n",
       "4             Yes           Yes                 Yes  2.318189 -1.427316   \n",
       "..            ...           ...                 ...       ...       ...   \n",
       "492           Yes            No                  No  0.692007 -1.482522   \n",
       "493            No            No                  No  0.464434  1.969386   \n",
       "494           Yes            No                  No  0.142641  0.114832   \n",
       "495           Yes            No                 Yes -0.032784  1.504001   \n",
       "496           Yes            No                  No -0.338570  0.741617   \n",
       "\n",
       "            2         3         4         5         6         7         8  \\\n",
       "0    0.321566 -0.062020 -0.779571 -0.296628  0.188137 -0.002305 -0.003612   \n",
       "1   -0.354436 -0.013409  0.846076 -1.271206 -0.714028  0.012279  0.001241   \n",
       "2    0.456770 -1.045977  1.657275  0.607708  0.324851  0.011125  0.009450   \n",
       "3    1.089116 -0.420338 -0.561257  1.101480 -0.322472  0.000377 -0.008450   \n",
       "4    0.420048 -0.128279  0.739548  0.020708 -0.555633  0.014960 -0.003596   \n",
       "..        ...       ...       ...       ...       ...       ...       ...   \n",
       "492 -0.782357 -0.794673 -0.223249  0.213029  2.007375 -0.006140  0.009435   \n",
       "493  1.028823  1.409976 -0.121910  0.420811  0.910341 -0.002774 -0.004057   \n",
       "494 -0.345825 -0.047885 -0.733976 -0.286984  0.120799 -0.002305 -0.003612   \n",
       "495  2.052424 -1.304824  0.688989  1.701273 -0.471922 -0.003458  0.004597   \n",
       "496  1.132886 -1.000127  0.147659  0.286947  0.980459 -0.006140  0.009435   \n",
       "\n",
       "            9        10  \n",
       "0    0.001882 -0.003317  \n",
       "1   -0.000119 -0.005104  \n",
       "2   -0.003953  0.012074  \n",
       "3    0.000245  0.007262  \n",
       "4   -0.001756  0.005475  \n",
       "..        ...       ...  \n",
       "492 -0.000315  0.003282  \n",
       "493 -0.002005 -0.004003  \n",
       "494  0.001882 -0.003317  \n",
       "495 -0.001952  0.013861  \n",
       "496 -0.000315  0.003282  \n",
       "\n",
       "[497 rows x 18 columns]"
      ]
     },
     "execution_count": 63,
     "metadata": {},
     "output_type": "execute_result"
    }
   ],
   "source": [
    "#Se agregan los factores resultantes a las variables del dataset test\n",
    "test_df_2 = pd.concat([test_df_1,famd_2],axis=1)\n",
    "test_df_2 "
   ]
  },
  {
   "cell_type": "code",
   "execution_count": 64,
   "metadata": {
    "executionInfo": {
     "elapsed": 252,
     "status": "ok",
     "timestamp": 1632328057564,
     "user": {
      "displayName": "Hugo Carignano",
      "photoUrl": "https://lh3.googleusercontent.com/a-/AOh14GghlBIEB1E06zcwUUK6G2hjSk8W8yEYXdTtbaJTLw=s64",
      "userId": "08546365168766205680"
     },
     "user_tz": 180
    },
    "id": "0oqSU4qg8ibn"
   },
   "outputs": [],
   "source": [
    "#from sklearn.compose import make_column_transformer\n",
    "#from sklearn.metrics import classification_report\n",
    "#from sklearn.model_selection import GridSearchCV\n",
    "#from sklearn.preprocessing import KBinsDiscretizer, OneHotEncoder\n",
    "#from sklearn.tree import DecisionTreeClassifier"
   ]
  },
  {
   "cell_type": "code",
   "execution_count": 65,
   "metadata": {
    "executionInfo": {
     "elapsed": 243,
     "status": "ok",
     "timestamp": 1632328140781,
     "user": {
      "displayName": "Hugo Carignano",
      "photoUrl": "https://lh3.googleusercontent.com/a-/AOh14GghlBIEB1E06zcwUUK6G2hjSk8W8yEYXdTtbaJTLw=s64",
      "userId": "08546365168766205680"
     },
     "user_tz": 180
    },
    "id": "IuZNlC_w-1Rp"
   },
   "outputs": [],
   "source": [
    "#Encoding de variables\n",
    "transformer = make_column_transformer((OneHotEncoder(categories=\"auto\", dtype=\"int\", handle_unknown=\"ignore\"),\n",
    "     [\"Employment Type\", \"GraduateOrNot\", \"FrequentFlyer\", \"EverTravelledAbroad\"]),\n",
    "    remainder=\"passthrough\")"
   ]
  },
  {
   "cell_type": "code",
   "execution_count": 66,
   "metadata": {
    "executionInfo": {
     "elapsed": 10,
     "status": "ok",
     "timestamp": 1632328143205,
     "user": {
      "displayName": "Hugo Carignano",
      "photoUrl": "https://lh3.googleusercontent.com/a-/AOh14GghlBIEB1E06zcwUUK6G2hjSk8W8yEYXdTtbaJTLw=s64",
      "userId": "08546365168766205680"
     },
     "user_tz": 180
    },
    "id": "l_WyY8JX--3u"
   },
   "outputs": [],
   "source": [
    "# Dataset de train final\n",
    "X_train = transformer.fit_transform(train_df_2)\n",
    "y_train = train_df[\"TravelInsurance\"].values"
   ]
  },
  {
   "cell_type": "code",
   "execution_count": 67,
   "metadata": {
    "executionInfo": {
     "elapsed": 6,
     "status": "ok",
     "timestamp": 1632328145143,
     "user": {
      "displayName": "Hugo Carignano",
      "photoUrl": "https://lh3.googleusercontent.com/a-/AOh14GghlBIEB1E06zcwUUK6G2hjSk8W8yEYXdTtbaJTLw=s64",
      "userId": "08546365168766205680"
     },
     "user_tz": 180
    },
    "id": "9sCoMWygANmF"
   },
   "outputs": [],
   "source": [
    "# Dataset de test final para obtener las predicciones\n",
    "X_test = transformer.transform(test_df_2)"
   ]
  },
  {
   "cell_type": "code",
   "execution_count": 68,
   "metadata": {
    "executionInfo": {
     "elapsed": 6,
     "status": "ok",
     "timestamp": 1632328147649,
     "user": {
      "displayName": "Hugo Carignano",
      "photoUrl": "https://lh3.googleusercontent.com/a-/AOh14GghlBIEB1E06zcwUUK6G2hjSk8W8yEYXdTtbaJTLw=s64",
      "userId": "08546365168766205680"
     },
     "user_tz": 180
    },
    "id": "bmnh9nNGAnf9"
   },
   "outputs": [],
   "source": [
    "# Parámetros que tuvimos en cuenta para el modelo XGBoost\n",
    "from xgboost import XGBClassifier\n",
    "search_params_XGB = {\"subsample\":[0.5, 0.75, 1],\n",
    "\"max_depth\":[6, 12],\n",
    "\"min_child_weight\":[1,5,15],\n",
    "\"learning_rate\":[0.03, 0.1, 0.2], \"n_estimators\" : [150, 200, 250], \"scale_pos_weight\" : [0.5, 1, 10, 25], \"verbosity\" : [1, 2]}\n",
    "\n",
    "model_v2 =  XGBClassifier(objective= 'binary:logistic', random_state=0)"
   ]
  },
  {
   "cell_type": "code",
   "execution_count": 69,
   "metadata": {
    "colab": {
     "base_uri": "https://localhost:8080/"
    },
    "executionInfo": {
     "elapsed": 3040110,
     "status": "ok",
     "timestamp": 1632331233441,
     "user": {
      "displayName": "Hugo Carignano",
      "photoUrl": "https://lh3.googleusercontent.com/a-/AOh14GghlBIEB1E06zcwUUK6G2hjSk8W8yEYXdTtbaJTLw=s64",
      "userId": "08546365168766205680"
     },
     "user_tz": 180
    },
    "id": "DekDh67kV0iX",
    "outputId": "c182c4be-3776-4de2-dc87-e4bf81dace4a"
   },
   "outputs": [
    {
     "name": "stderr",
     "output_type": "stream",
     "text": [
      "/home/gabriel/anaconda3/lib/python3.8/site-packages/xgboost/sklearn.py:1146: UserWarning: The use of label encoder in XGBClassifier is deprecated and will be removed in a future release. To remove this warning, do the following: 1) Pass option use_label_encoder=False when constructing XGBClassifier object; and 2) Encode your labels (y) as integers starting with 0, i.e. 0, 1, 2, ..., [num_class - 1].\n",
      "  warnings.warn(label_encoder_deprecation_msg, UserWarning)\n"
     ]
    },
    {
     "name": "stdout",
     "output_type": "stream",
     "text": [
      "[22:30:31] WARNING: ../src/learner.cc:1095: Starting in XGBoost 1.3.0, the default evaluation metric used with the objective 'binary:logistic' was changed from 'error' to 'logloss'. Explicitly set eval_metric if you'd like to restore the old behavior.\n",
      "time 3403.7524757385254\n"
     ]
    }
   ],
   "source": [
    "start = time.time()\n",
    "#Búsqueda de prámetros óptimos mediante grid\n",
    "grid_XGB = GridSearchCV(model_v2, search_params_XGB, cv=5, scoring='f1', n_jobs=-1)\n",
    "grid_XGB.fit(X_train, y_train)\n",
    "\n",
    "best_XGB = grid_XGB.best_estimator_\n",
    "best_XGB\n",
    "end = time.time()\n",
    "print('time',end-start)"
   ]
  },
  {
   "cell_type": "code",
   "execution_count": 70,
   "metadata": {
    "colab": {
     "base_uri": "https://localhost:8080/"
    },
    "executionInfo": {
     "elapsed": 237,
     "status": "ok",
     "timestamp": 1632331268542,
     "user": {
      "displayName": "Hugo Carignano",
      "photoUrl": "https://lh3.googleusercontent.com/a-/AOh14GghlBIEB1E06zcwUUK6G2hjSk8W8yEYXdTtbaJTLw=s64",
      "userId": "08546365168766205680"
     },
     "user_tz": 180
    },
    "id": "TRnwCO9Uhm3Z",
    "outputId": "76e70c10-4ff2-4ee9-8117-705c8ef3b548"
   },
   "outputs": [
    {
     "name": "stdout",
     "output_type": "stream",
     "text": [
      "XGB\n",
      "\n",
      "              precision    recall  f1-score   support\n",
      "\n",
      "           0       0.83      0.96      0.89       958\n",
      "           1       0.91      0.64      0.75       532\n",
      "\n",
      "    accuracy                           0.85      1490\n",
      "   macro avg       0.87      0.80      0.82      1490\n",
      "weighted avg       0.86      0.85      0.84      1490\n",
      "\n"
     ]
    }
   ],
   "source": [
    "#Evaluación del odelo resultante\n",
    "print('XGB\\n')\n",
    "print(classification_report(y_train, best_XGB.predict(X_train)))"
   ]
  },
  {
   "cell_type": "code",
   "execution_count": 71,
   "metadata": {
    "id": "C5HhywYBiPDW"
   },
   "outputs": [],
   "source": [
    "# #Obtención de la predicción final en el dataset de test\n",
    "# test_pred_XGB = best_XGB.predict(X_test)\n",
    "\n",
    "# submission_XGB = pd.DataFrame(list(zip(test_id, test_pred_XGB)), columns=[\"Customer\", \"TravelInsurance\"])\n",
    "# submission_XGB.to_csv(\"./travel_insurance_submission_XGB_MFA_2.csv\", header=True, index=False)\n",
    "# print(len(submission_XGB))"
   ]
  }
 ],
 "metadata": {
  "colab": {
   "collapsed_sections": [
    "8v2-sSk6Bjl9",
    "F9PqN6SOBjl-",
    "Psr8u5NjBjmA",
    "Fv7_pJ7tBjmB",
    "29Nudrm9BjmC",
    "i33Yv8o9BjmD"
   ],
   "name": "Baseline-Gabriel-HC-4.ipynb",
   "provenance": [
    {
     "file_id": "1u92WcfgEtX5a7JuA3wOoIw-ZYlNYENZM",
     "timestamp": 1632317017237
    }
   ]
  },
  "kernelspec": {
   "display_name": "Python 3",
   "language": "python",
   "name": "python3"
  },
  "language_info": {
   "codemirror_mode": {
    "name": "ipython",
    "version": 3
   },
   "file_extension": ".py",
   "mimetype": "text/x-python",
   "name": "python",
   "nbconvert_exporter": "python",
   "pygments_lexer": "ipython3",
   "version": "3.8.8"
  }
 },
 "nbformat": 4,
 "nbformat_minor": 1
}
